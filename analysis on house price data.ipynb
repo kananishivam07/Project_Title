{
 "cells": [
  {
   "cell_type": "markdown",
   "id": "f232c700",
   "metadata": {},
   "source": [
    " #Analysis on House Price Data\n"
   ]
  },
  {
   "cell_type": "code",
   "execution_count": 1,
   "id": "57ee81b9",
   "metadata": {},
   "outputs": [],
   "source": [
    "# import numpy\n",
    "import numpy as np\n",
    "\n",
    "# import pandas\n",
    "import pandas as pd\n",
    "\n",
    "# import seaborn\n",
    "import seaborn as sns\n",
    "\n",
    "# import matplotlib\n",
    "import matplotlib.pyplot as plt"
   ]
  },
  {
   "cell_type": "code",
   "execution_count": 2,
   "id": "15d94df7",
   "metadata": {},
   "outputs": [],
   "source": [
    "# import the dataset\n",
    "df_house_price_data = pd.read_csv(\"C:\\\\Users\\\\ADMIN\\\\Downloads\\\\House_Price.csv\")"
   ]
  },
  {
   "cell_type": "code",
   "execution_count": 3,
   "id": "b5a2fbe9",
   "metadata": {},
   "outputs": [
    {
     "data": {
      "text/html": [
       "<div>\n",
       "<style scoped>\n",
       "    .dataframe tbody tr th:only-of-type {\n",
       "        vertical-align: middle;\n",
       "    }\n",
       "\n",
       "    .dataframe tbody tr th {\n",
       "        vertical-align: top;\n",
       "    }\n",
       "\n",
       "    .dataframe thead th {\n",
       "        text-align: right;\n",
       "    }\n",
       "</style>\n",
       "<table border=\"1\" class=\"dataframe\">\n",
       "  <thead>\n",
       "    <tr style=\"text-align: right;\">\n",
       "      <th></th>\n",
       "      <th>price</th>\n",
       "      <th>crime_rate</th>\n",
       "      <th>resid_area</th>\n",
       "      <th>air_qual</th>\n",
       "      <th>room_num</th>\n",
       "      <th>age</th>\n",
       "      <th>dist1</th>\n",
       "      <th>dist2</th>\n",
       "      <th>dist3</th>\n",
       "      <th>dist4</th>\n",
       "      <th>teachers</th>\n",
       "      <th>poor_prop</th>\n",
       "      <th>airport</th>\n",
       "      <th>n_hos_beds</th>\n",
       "      <th>n_hot_rooms</th>\n",
       "      <th>waterbody</th>\n",
       "      <th>rainfall</th>\n",
       "      <th>bus_ter</th>\n",
       "      <th>parks</th>\n",
       "    </tr>\n",
       "  </thead>\n",
       "  <tbody>\n",
       "    <tr>\n",
       "      <th>0</th>\n",
       "      <td>24.0</td>\n",
       "      <td>0.00632</td>\n",
       "      <td>32.31</td>\n",
       "      <td>0.538</td>\n",
       "      <td>6.575</td>\n",
       "      <td>65.2</td>\n",
       "      <td>4.35</td>\n",
       "      <td>3.81</td>\n",
       "      <td>4.18</td>\n",
       "      <td>4.01</td>\n",
       "      <td>24.7</td>\n",
       "      <td>4.98</td>\n",
       "      <td>YES</td>\n",
       "      <td>5.480</td>\n",
       "      <td>11.1920</td>\n",
       "      <td>River</td>\n",
       "      <td>23</td>\n",
       "      <td>YES</td>\n",
       "      <td>0.049347</td>\n",
       "    </tr>\n",
       "    <tr>\n",
       "      <th>1</th>\n",
       "      <td>21.6</td>\n",
       "      <td>0.02731</td>\n",
       "      <td>37.07</td>\n",
       "      <td>0.469</td>\n",
       "      <td>6.421</td>\n",
       "      <td>78.9</td>\n",
       "      <td>4.99</td>\n",
       "      <td>4.70</td>\n",
       "      <td>5.12</td>\n",
       "      <td>5.06</td>\n",
       "      <td>22.2</td>\n",
       "      <td>9.14</td>\n",
       "      <td>NO</td>\n",
       "      <td>7.332</td>\n",
       "      <td>12.1728</td>\n",
       "      <td>Lake</td>\n",
       "      <td>42</td>\n",
       "      <td>YES</td>\n",
       "      <td>0.046146</td>\n",
       "    </tr>\n",
       "    <tr>\n",
       "      <th>2</th>\n",
       "      <td>34.7</td>\n",
       "      <td>0.02729</td>\n",
       "      <td>37.07</td>\n",
       "      <td>0.469</td>\n",
       "      <td>7.185</td>\n",
       "      <td>61.1</td>\n",
       "      <td>5.03</td>\n",
       "      <td>4.86</td>\n",
       "      <td>5.01</td>\n",
       "      <td>4.97</td>\n",
       "      <td>22.2</td>\n",
       "      <td>4.03</td>\n",
       "      <td>NO</td>\n",
       "      <td>7.394</td>\n",
       "      <td>101.1200</td>\n",
       "      <td>None</td>\n",
       "      <td>38</td>\n",
       "      <td>YES</td>\n",
       "      <td>0.045764</td>\n",
       "    </tr>\n",
       "    <tr>\n",
       "      <th>3</th>\n",
       "      <td>33.4</td>\n",
       "      <td>0.03237</td>\n",
       "      <td>32.18</td>\n",
       "      <td>0.458</td>\n",
       "      <td>6.998</td>\n",
       "      <td>45.8</td>\n",
       "      <td>6.21</td>\n",
       "      <td>5.93</td>\n",
       "      <td>6.16</td>\n",
       "      <td>5.96</td>\n",
       "      <td>21.3</td>\n",
       "      <td>2.94</td>\n",
       "      <td>YES</td>\n",
       "      <td>9.268</td>\n",
       "      <td>11.2672</td>\n",
       "      <td>Lake</td>\n",
       "      <td>45</td>\n",
       "      <td>YES</td>\n",
       "      <td>0.047151</td>\n",
       "    </tr>\n",
       "    <tr>\n",
       "      <th>4</th>\n",
       "      <td>36.2</td>\n",
       "      <td>0.06905</td>\n",
       "      <td>32.18</td>\n",
       "      <td>0.458</td>\n",
       "      <td>7.147</td>\n",
       "      <td>54.2</td>\n",
       "      <td>6.16</td>\n",
       "      <td>5.86</td>\n",
       "      <td>6.37</td>\n",
       "      <td>5.86</td>\n",
       "      <td>21.3</td>\n",
       "      <td>5.33</td>\n",
       "      <td>NO</td>\n",
       "      <td>8.824</td>\n",
       "      <td>11.2896</td>\n",
       "      <td>Lake</td>\n",
       "      <td>55</td>\n",
       "      <td>YES</td>\n",
       "      <td>0.039474</td>\n",
       "    </tr>\n",
       "  </tbody>\n",
       "</table>\n",
       "</div>"
      ],
      "text/plain": [
       "   price  crime_rate  resid_area  air_qual  room_num   age  dist1  dist2  \\\n",
       "0   24.0     0.00632       32.31     0.538     6.575  65.2   4.35   3.81   \n",
       "1   21.6     0.02731       37.07     0.469     6.421  78.9   4.99   4.70   \n",
       "2   34.7     0.02729       37.07     0.469     7.185  61.1   5.03   4.86   \n",
       "3   33.4     0.03237       32.18     0.458     6.998  45.8   6.21   5.93   \n",
       "4   36.2     0.06905       32.18     0.458     7.147  54.2   6.16   5.86   \n",
       "\n",
       "   dist3  dist4  teachers  poor_prop airport  n_hos_beds  n_hot_rooms  \\\n",
       "0   4.18   4.01      24.7       4.98     YES       5.480      11.1920   \n",
       "1   5.12   5.06      22.2       9.14      NO       7.332      12.1728   \n",
       "2   5.01   4.97      22.2       4.03      NO       7.394     101.1200   \n",
       "3   6.16   5.96      21.3       2.94     YES       9.268      11.2672   \n",
       "4   6.37   5.86      21.3       5.33      NO       8.824      11.2896   \n",
       "\n",
       "  waterbody  rainfall bus_ter     parks  \n",
       "0     River        23     YES  0.049347  \n",
       "1      Lake        42     YES  0.046146  \n",
       "2      None        38     YES  0.045764  \n",
       "3      Lake        45     YES  0.047151  \n",
       "4      Lake        55     YES  0.039474  "
      ]
     },
     "execution_count": 3,
     "metadata": {},
     "output_type": "execute_result"
    }
   ],
   "source": [
    "# show first five observation of data set\n",
    "df_house_price_data.head()"
   ]
  },
  {
   "cell_type": "code",
   "execution_count": 4,
   "id": "933f7e33",
   "metadata": {},
   "outputs": [
    {
     "data": {
      "text/html": [
       "<div>\n",
       "<style scoped>\n",
       "    .dataframe tbody tr th:only-of-type {\n",
       "        vertical-align: middle;\n",
       "    }\n",
       "\n",
       "    .dataframe tbody tr th {\n",
       "        vertical-align: top;\n",
       "    }\n",
       "\n",
       "    .dataframe thead th {\n",
       "        text-align: right;\n",
       "    }\n",
       "</style>\n",
       "<table border=\"1\" class=\"dataframe\">\n",
       "  <thead>\n",
       "    <tr style=\"text-align: right;\">\n",
       "      <th></th>\n",
       "      <th>price</th>\n",
       "      <th>crime_rate</th>\n",
       "      <th>resid_area</th>\n",
       "      <th>air_qual</th>\n",
       "      <th>room_num</th>\n",
       "      <th>age</th>\n",
       "      <th>dist1</th>\n",
       "      <th>dist2</th>\n",
       "      <th>dist3</th>\n",
       "      <th>dist4</th>\n",
       "      <th>teachers</th>\n",
       "      <th>poor_prop</th>\n",
       "      <th>airport</th>\n",
       "      <th>n_hos_beds</th>\n",
       "      <th>n_hot_rooms</th>\n",
       "      <th>waterbody</th>\n",
       "      <th>rainfall</th>\n",
       "      <th>bus_ter</th>\n",
       "      <th>parks</th>\n",
       "    </tr>\n",
       "  </thead>\n",
       "  <tbody>\n",
       "    <tr>\n",
       "      <th>501</th>\n",
       "      <td>22.4</td>\n",
       "      <td>0.06263</td>\n",
       "      <td>41.93</td>\n",
       "      <td>0.573</td>\n",
       "      <td>6.593</td>\n",
       "      <td>69.1</td>\n",
       "      <td>2.64</td>\n",
       "      <td>2.45</td>\n",
       "      <td>2.76</td>\n",
       "      <td>2.06</td>\n",
       "      <td>19.0</td>\n",
       "      <td>9.67</td>\n",
       "      <td>NO</td>\n",
       "      <td>9.348</td>\n",
       "      <td>12.1792</td>\n",
       "      <td>Lake and River</td>\n",
       "      <td>27</td>\n",
       "      <td>YES</td>\n",
       "      <td>0.056006</td>\n",
       "    </tr>\n",
       "    <tr>\n",
       "      <th>502</th>\n",
       "      <td>20.6</td>\n",
       "      <td>0.04527</td>\n",
       "      <td>41.93</td>\n",
       "      <td>0.573</td>\n",
       "      <td>6.120</td>\n",
       "      <td>76.7</td>\n",
       "      <td>2.44</td>\n",
       "      <td>2.11</td>\n",
       "      <td>2.46</td>\n",
       "      <td>2.14</td>\n",
       "      <td>19.0</td>\n",
       "      <td>9.08</td>\n",
       "      <td>YES</td>\n",
       "      <td>6.612</td>\n",
       "      <td>13.1648</td>\n",
       "      <td>Lake and River</td>\n",
       "      <td>20</td>\n",
       "      <td>YES</td>\n",
       "      <td>0.059903</td>\n",
       "    </tr>\n",
       "    <tr>\n",
       "      <th>503</th>\n",
       "      <td>23.9</td>\n",
       "      <td>0.06076</td>\n",
       "      <td>41.93</td>\n",
       "      <td>0.573</td>\n",
       "      <td>6.976</td>\n",
       "      <td>91.0</td>\n",
       "      <td>2.34</td>\n",
       "      <td>2.06</td>\n",
       "      <td>2.29</td>\n",
       "      <td>1.98</td>\n",
       "      <td>19.0</td>\n",
       "      <td>5.64</td>\n",
       "      <td>NO</td>\n",
       "      <td>5.478</td>\n",
       "      <td>12.1912</td>\n",
       "      <td>None</td>\n",
       "      <td>31</td>\n",
       "      <td>YES</td>\n",
       "      <td>0.057572</td>\n",
       "    </tr>\n",
       "    <tr>\n",
       "      <th>504</th>\n",
       "      <td>22.0</td>\n",
       "      <td>0.10959</td>\n",
       "      <td>41.93</td>\n",
       "      <td>0.573</td>\n",
       "      <td>6.794</td>\n",
       "      <td>89.3</td>\n",
       "      <td>2.54</td>\n",
       "      <td>2.31</td>\n",
       "      <td>2.40</td>\n",
       "      <td>2.31</td>\n",
       "      <td>19.0</td>\n",
       "      <td>6.48</td>\n",
       "      <td>YES</td>\n",
       "      <td>7.940</td>\n",
       "      <td>15.1760</td>\n",
       "      <td>None</td>\n",
       "      <td>47</td>\n",
       "      <td>YES</td>\n",
       "      <td>0.060694</td>\n",
       "    </tr>\n",
       "    <tr>\n",
       "      <th>505</th>\n",
       "      <td>19.0</td>\n",
       "      <td>0.04741</td>\n",
       "      <td>41.93</td>\n",
       "      <td>0.573</td>\n",
       "      <td>6.030</td>\n",
       "      <td>80.8</td>\n",
       "      <td>2.72</td>\n",
       "      <td>2.24</td>\n",
       "      <td>2.64</td>\n",
       "      <td>2.42</td>\n",
       "      <td>19.0</td>\n",
       "      <td>7.88</td>\n",
       "      <td>YES</td>\n",
       "      <td>10.280</td>\n",
       "      <td>10.1520</td>\n",
       "      <td>None</td>\n",
       "      <td>45</td>\n",
       "      <td>YES</td>\n",
       "      <td>0.060336</td>\n",
       "    </tr>\n",
       "  </tbody>\n",
       "</table>\n",
       "</div>"
      ],
      "text/plain": [
       "     price  crime_rate  resid_area  air_qual  room_num   age  dist1  dist2  \\\n",
       "501   22.4     0.06263       41.93     0.573     6.593  69.1   2.64   2.45   \n",
       "502   20.6     0.04527       41.93     0.573     6.120  76.7   2.44   2.11   \n",
       "503   23.9     0.06076       41.93     0.573     6.976  91.0   2.34   2.06   \n",
       "504   22.0     0.10959       41.93     0.573     6.794  89.3   2.54   2.31   \n",
       "505   19.0     0.04741       41.93     0.573     6.030  80.8   2.72   2.24   \n",
       "\n",
       "     dist3  dist4  teachers  poor_prop airport  n_hos_beds  n_hot_rooms  \\\n",
       "501   2.76   2.06      19.0       9.67      NO       9.348      12.1792   \n",
       "502   2.46   2.14      19.0       9.08     YES       6.612      13.1648   \n",
       "503   2.29   1.98      19.0       5.64      NO       5.478      12.1912   \n",
       "504   2.40   2.31      19.0       6.48     YES       7.940      15.1760   \n",
       "505   2.64   2.42      19.0       7.88     YES      10.280      10.1520   \n",
       "\n",
       "          waterbody  rainfall bus_ter     parks  \n",
       "501  Lake and River        27     YES  0.056006  \n",
       "502  Lake and River        20     YES  0.059903  \n",
       "503            None        31     YES  0.057572  \n",
       "504            None        47     YES  0.060694  \n",
       "505            None        45     YES  0.060336  "
      ]
     },
     "execution_count": 4,
     "metadata": {},
     "output_type": "execute_result"
    }
   ],
   "source": [
    "# show last five observation of data set\n",
    "df_house_price_data.tail()"
   ]
  },
  {
   "cell_type": "markdown",
   "id": "a5310d12",
   "metadata": {},
   "source": [
    "# 1 Data Overview"
   ]
  },
  {
   "cell_type": "code",
   "execution_count": 5,
   "id": "cfee9479",
   "metadata": {},
   "outputs": [
    {
     "data": {
      "text/plain": [
       "Index(['price', 'crime_rate', 'resid_area', 'air_qual', 'room_num', 'age',\n",
       "       'dist1', 'dist2', 'dist3', 'dist4', 'teachers', 'poor_prop', 'airport',\n",
       "       'n_hos_beds', 'n_hot_rooms', 'waterbody', 'rainfall', 'bus_ter',\n",
       "       'parks'],\n",
       "      dtype='object')"
      ]
     },
     "execution_count": 5,
     "metadata": {},
     "output_type": "execute_result"
    }
   ],
   "source": [
    "# show the attributes names\n",
    "df_house_price_data.columns"
   ]
  },
  {
   "cell_type": "markdown",
   "id": "99d53375",
   "metadata": {},
   "source": [
    "**columninfo**\n",
    " - `price`: price of house.\n",
    " - `crime_rate`: crime_rate in that area."
   ]
  },
  {
   "cell_type": "markdown",
   "id": "318f502e",
   "metadata": {},
   "source": [
    "## Basic Statistcis(descriptive statistcis)"
   ]
  },
  {
   "cell_type": "code",
   "execution_count": 6,
   "id": "596fbe1e",
   "metadata": {},
   "outputs": [],
   "source": [
    "# shape of the data\n",
    "# Basic info\n",
    "# Basic description\n"
   ]
  },
  {
   "cell_type": "code",
   "execution_count": 7,
   "id": "ec51f6fe",
   "metadata": {},
   "outputs": [
    {
     "data": {
      "text/plain": [
       "(506, 19)"
      ]
     },
     "execution_count": 7,
     "metadata": {},
     "output_type": "execute_result"
    }
   ],
   "source": [
    "# shape of the data \n",
    "df_house_price_data.shape"
   ]
  },
  {
   "cell_type": "markdown",
   "id": "1a6255f2",
   "metadata": {},
   "source": [
    "**Interpretation**\n",
    " - we have 506 observation and 19 attributes"
   ]
  },
  {
   "cell_type": "code",
   "execution_count": 8,
   "id": "6c05e5ea",
   "metadata": {},
   "outputs": [
    {
     "name": "stdout",
     "output_type": "stream",
     "text": [
      "<class 'pandas.core.frame.DataFrame'>\n",
      "RangeIndex: 506 entries, 0 to 505\n",
      "Data columns (total 19 columns):\n",
      " #   Column       Non-Null Count  Dtype  \n",
      "---  ------       --------------  -----  \n",
      " 0   price        506 non-null    float64\n",
      " 1   crime_rate   506 non-null    float64\n",
      " 2   resid_area   506 non-null    float64\n",
      " 3   air_qual     506 non-null    float64\n",
      " 4   room_num     506 non-null    float64\n",
      " 5   age          506 non-null    float64\n",
      " 6   dist1        506 non-null    float64\n",
      " 7   dist2        506 non-null    float64\n",
      " 8   dist3        506 non-null    float64\n",
      " 9   dist4        506 non-null    float64\n",
      " 10  teachers     506 non-null    float64\n",
      " 11  poor_prop    506 non-null    float64\n",
      " 12  airport      506 non-null    object \n",
      " 13  n_hos_beds   498 non-null    float64\n",
      " 14  n_hot_rooms  506 non-null    float64\n",
      " 15  waterbody    506 non-null    object \n",
      " 16  rainfall     506 non-null    int64  \n",
      " 17  bus_ter      506 non-null    object \n",
      " 18  parks        506 non-null    float64\n",
      "dtypes: float64(15), int64(1), object(3)\n",
      "memory usage: 75.2+ KB\n"
     ]
    }
   ],
   "source": [
    "# Basic info\n",
    "df_house_price_data.info()"
   ]
  },
  {
   "cell_type": "markdown",
   "id": "cef85ffb",
   "metadata": {},
   "source": [
    "**Interpretation**\n",
    " - We have 16 numberic attributes it include 15 float and 1 integer in nature\n",
    " - We have 3 categerical attributes \n",
    " - In the data we have vaild null value "
   ]
  },
  {
   "cell_type": "code",
   "execution_count": 9,
   "id": "8f054c57",
   "metadata": {},
   "outputs": [
    {
     "data": {
      "text/html": [
       "<div>\n",
       "<style scoped>\n",
       "    .dataframe tbody tr th:only-of-type {\n",
       "        vertical-align: middle;\n",
       "    }\n",
       "\n",
       "    .dataframe tbody tr th {\n",
       "        vertical-align: top;\n",
       "    }\n",
       "\n",
       "    .dataframe thead th {\n",
       "        text-align: right;\n",
       "    }\n",
       "</style>\n",
       "<table border=\"1\" class=\"dataframe\">\n",
       "  <thead>\n",
       "    <tr style=\"text-align: right;\">\n",
       "      <th></th>\n",
       "      <th>count</th>\n",
       "      <th>mean</th>\n",
       "      <th>std</th>\n",
       "      <th>min</th>\n",
       "      <th>25%</th>\n",
       "      <th>50%</th>\n",
       "      <th>75%</th>\n",
       "      <th>max</th>\n",
       "    </tr>\n",
       "  </thead>\n",
       "  <tbody>\n",
       "    <tr>\n",
       "      <th>price</th>\n",
       "      <td>506.0</td>\n",
       "      <td>22.528854</td>\n",
       "      <td>9.182176</td>\n",
       "      <td>5.000000</td>\n",
       "      <td>17.025000</td>\n",
       "      <td>21.200000</td>\n",
       "      <td>25.000000</td>\n",
       "      <td>50.000000</td>\n",
       "    </tr>\n",
       "    <tr>\n",
       "      <th>crime_rate</th>\n",
       "      <td>506.0</td>\n",
       "      <td>3.613524</td>\n",
       "      <td>8.601545</td>\n",
       "      <td>0.006320</td>\n",
       "      <td>0.082045</td>\n",
       "      <td>0.256510</td>\n",
       "      <td>3.677083</td>\n",
       "      <td>88.976200</td>\n",
       "    </tr>\n",
       "    <tr>\n",
       "      <th>resid_area</th>\n",
       "      <td>506.0</td>\n",
       "      <td>41.136779</td>\n",
       "      <td>6.860353</td>\n",
       "      <td>30.460000</td>\n",
       "      <td>35.190000</td>\n",
       "      <td>39.690000</td>\n",
       "      <td>48.100000</td>\n",
       "      <td>57.740000</td>\n",
       "    </tr>\n",
       "    <tr>\n",
       "      <th>air_qual</th>\n",
       "      <td>506.0</td>\n",
       "      <td>0.554695</td>\n",
       "      <td>0.115878</td>\n",
       "      <td>0.385000</td>\n",
       "      <td>0.449000</td>\n",
       "      <td>0.538000</td>\n",
       "      <td>0.624000</td>\n",
       "      <td>0.871000</td>\n",
       "    </tr>\n",
       "    <tr>\n",
       "      <th>room_num</th>\n",
       "      <td>506.0</td>\n",
       "      <td>6.284634</td>\n",
       "      <td>0.702617</td>\n",
       "      <td>3.561000</td>\n",
       "      <td>5.885500</td>\n",
       "      <td>6.208500</td>\n",
       "      <td>6.623500</td>\n",
       "      <td>8.780000</td>\n",
       "    </tr>\n",
       "    <tr>\n",
       "      <th>age</th>\n",
       "      <td>506.0</td>\n",
       "      <td>68.574901</td>\n",
       "      <td>28.148861</td>\n",
       "      <td>2.900000</td>\n",
       "      <td>45.025000</td>\n",
       "      <td>77.500000</td>\n",
       "      <td>94.075000</td>\n",
       "      <td>100.000000</td>\n",
       "    </tr>\n",
       "    <tr>\n",
       "      <th>dist1</th>\n",
       "      <td>506.0</td>\n",
       "      <td>3.971996</td>\n",
       "      <td>2.108532</td>\n",
       "      <td>1.130000</td>\n",
       "      <td>2.270000</td>\n",
       "      <td>3.385000</td>\n",
       "      <td>5.367500</td>\n",
       "      <td>12.320000</td>\n",
       "    </tr>\n",
       "    <tr>\n",
       "      <th>dist2</th>\n",
       "      <td>506.0</td>\n",
       "      <td>3.628775</td>\n",
       "      <td>2.108580</td>\n",
       "      <td>0.920000</td>\n",
       "      <td>1.940000</td>\n",
       "      <td>3.010000</td>\n",
       "      <td>4.992500</td>\n",
       "      <td>11.930000</td>\n",
       "    </tr>\n",
       "    <tr>\n",
       "      <th>dist3</th>\n",
       "      <td>506.0</td>\n",
       "      <td>3.960672</td>\n",
       "      <td>2.119797</td>\n",
       "      <td>1.150000</td>\n",
       "      <td>2.232500</td>\n",
       "      <td>3.375000</td>\n",
       "      <td>5.407500</td>\n",
       "      <td>12.320000</td>\n",
       "    </tr>\n",
       "    <tr>\n",
       "      <th>dist4</th>\n",
       "      <td>506.0</td>\n",
       "      <td>3.618972</td>\n",
       "      <td>2.099203</td>\n",
       "      <td>0.730000</td>\n",
       "      <td>1.940000</td>\n",
       "      <td>3.070000</td>\n",
       "      <td>4.985000</td>\n",
       "      <td>11.940000</td>\n",
       "    </tr>\n",
       "    <tr>\n",
       "      <th>teachers</th>\n",
       "      <td>506.0</td>\n",
       "      <td>21.544466</td>\n",
       "      <td>2.164946</td>\n",
       "      <td>18.000000</td>\n",
       "      <td>19.800000</td>\n",
       "      <td>20.950000</td>\n",
       "      <td>22.600000</td>\n",
       "      <td>27.400000</td>\n",
       "    </tr>\n",
       "    <tr>\n",
       "      <th>poor_prop</th>\n",
       "      <td>506.0</td>\n",
       "      <td>12.653063</td>\n",
       "      <td>7.141062</td>\n",
       "      <td>1.730000</td>\n",
       "      <td>6.950000</td>\n",
       "      <td>11.360000</td>\n",
       "      <td>16.955000</td>\n",
       "      <td>37.970000</td>\n",
       "    </tr>\n",
       "    <tr>\n",
       "      <th>n_hos_beds</th>\n",
       "      <td>498.0</td>\n",
       "      <td>7.899767</td>\n",
       "      <td>1.476683</td>\n",
       "      <td>5.268000</td>\n",
       "      <td>6.634500</td>\n",
       "      <td>7.999000</td>\n",
       "      <td>9.088000</td>\n",
       "      <td>10.876000</td>\n",
       "    </tr>\n",
       "    <tr>\n",
       "      <th>n_hot_rooms</th>\n",
       "      <td>506.0</td>\n",
       "      <td>13.041605</td>\n",
       "      <td>5.238957</td>\n",
       "      <td>10.057600</td>\n",
       "      <td>11.189800</td>\n",
       "      <td>12.720000</td>\n",
       "      <td>14.170800</td>\n",
       "      <td>101.120000</td>\n",
       "    </tr>\n",
       "    <tr>\n",
       "      <th>rainfall</th>\n",
       "      <td>506.0</td>\n",
       "      <td>39.181818</td>\n",
       "      <td>12.513697</td>\n",
       "      <td>3.000000</td>\n",
       "      <td>28.000000</td>\n",
       "      <td>39.000000</td>\n",
       "      <td>50.000000</td>\n",
       "      <td>60.000000</td>\n",
       "    </tr>\n",
       "    <tr>\n",
       "      <th>parks</th>\n",
       "      <td>506.0</td>\n",
       "      <td>0.054454</td>\n",
       "      <td>0.010632</td>\n",
       "      <td>0.033292</td>\n",
       "      <td>0.046464</td>\n",
       "      <td>0.053507</td>\n",
       "      <td>0.061397</td>\n",
       "      <td>0.086711</td>\n",
       "    </tr>\n",
       "  </tbody>\n",
       "</table>\n",
       "</div>"
      ],
      "text/plain": [
       "             count       mean        std        min        25%        50%  \\\n",
       "price        506.0  22.528854   9.182176   5.000000  17.025000  21.200000   \n",
       "crime_rate   506.0   3.613524   8.601545   0.006320   0.082045   0.256510   \n",
       "resid_area   506.0  41.136779   6.860353  30.460000  35.190000  39.690000   \n",
       "air_qual     506.0   0.554695   0.115878   0.385000   0.449000   0.538000   \n",
       "room_num     506.0   6.284634   0.702617   3.561000   5.885500   6.208500   \n",
       "age          506.0  68.574901  28.148861   2.900000  45.025000  77.500000   \n",
       "dist1        506.0   3.971996   2.108532   1.130000   2.270000   3.385000   \n",
       "dist2        506.0   3.628775   2.108580   0.920000   1.940000   3.010000   \n",
       "dist3        506.0   3.960672   2.119797   1.150000   2.232500   3.375000   \n",
       "dist4        506.0   3.618972   2.099203   0.730000   1.940000   3.070000   \n",
       "teachers     506.0  21.544466   2.164946  18.000000  19.800000  20.950000   \n",
       "poor_prop    506.0  12.653063   7.141062   1.730000   6.950000  11.360000   \n",
       "n_hos_beds   498.0   7.899767   1.476683   5.268000   6.634500   7.999000   \n",
       "n_hot_rooms  506.0  13.041605   5.238957  10.057600  11.189800  12.720000   \n",
       "rainfall     506.0  39.181818  12.513697   3.000000  28.000000  39.000000   \n",
       "parks        506.0   0.054454   0.010632   0.033292   0.046464   0.053507   \n",
       "\n",
       "                   75%         max  \n",
       "price        25.000000   50.000000  \n",
       "crime_rate    3.677083   88.976200  \n",
       "resid_area   48.100000   57.740000  \n",
       "air_qual      0.624000    0.871000  \n",
       "room_num      6.623500    8.780000  \n",
       "age          94.075000  100.000000  \n",
       "dist1         5.367500   12.320000  \n",
       "dist2         4.992500   11.930000  \n",
       "dist3         5.407500   12.320000  \n",
       "dist4         4.985000   11.940000  \n",
       "teachers     22.600000   27.400000  \n",
       "poor_prop    16.955000   37.970000  \n",
       "n_hos_beds    9.088000   10.876000  \n",
       "n_hot_rooms  14.170800  101.120000  \n",
       "rainfall     50.000000   60.000000  \n",
       "parks         0.061397    0.086711  "
      ]
     },
     "execution_count": 9,
     "metadata": {},
     "output_type": "execute_result"
    }
   ],
   "source": [
    "# Basic description\n",
    "df_house_price_data.describe().T"
   ]
  },
  {
   "cell_type": "markdown",
   "id": "39912d54",
   "metadata": {},
   "source": [
    "**Interpretetion**\n",
    " - We have outlies is `crime_rate` , `age` , `resid_area`"
   ]
  },
  {
   "cell_type": "markdown",
   "id": "9ac0d217",
   "metadata": {},
   "source": [
    "# 2 Data Preprocessing"
   ]
  },
  {
   "cell_type": "code",
   "execution_count": 10,
   "id": "9d4a2036",
   "metadata": {},
   "outputs": [],
   "source": [
    "# Data cleaning\n",
    "# Null value Handling\n",
    "# Outlier treatment\n"
   ]
  },
  {
   "cell_type": "markdown",
   "id": "34568acb",
   "metadata": {},
   "source": [
    "### Data Cleaning"
   ]
  },
  {
   "cell_type": "code",
   "execution_count": 11,
   "id": "d641e8de",
   "metadata": {},
   "outputs": [
    {
     "data": {
      "text/plain": [
       "Index(['price', 'crime_rate', 'resid_area', 'air_qual', 'room_num', 'age',\n",
       "       'dist1', 'dist2', 'dist3', 'dist4', 'teachers', 'poor_prop', 'airport',\n",
       "       'n_hos_beds', 'n_hot_rooms', 'waterbody', 'rainfall', 'bus_ter',\n",
       "       'parks'],\n",
       "      dtype='object')"
      ]
     },
     "execution_count": 11,
     "metadata": {},
     "output_type": "execute_result"
    }
   ],
   "source": [
    "df_house_price_data.columns"
   ]
  },
  {
   "cell_type": "code",
   "execution_count": 12,
   "id": "b6cb0b6e",
   "metadata": {},
   "outputs": [],
   "source": [
    "# Let rename the columns \n",
    "df_house_price_data = df_house_price_data.rename(columns={'price' :'Price','crime_rate':'Crime_Rate','resid_area':'Resid_Area','air_qual':'Air_Qual','room_num':'Room_Num','age':'Age','dist1':'Dist1','dist2':'Dist2','dist3':'Dist3','dist4':'Dist4','teachers':'Teachers','poor_prop':'Poor_Prop','airport':'Airport', 'n_hos_beds': 'N_Hos_Beds','n_hot_rooms':'N_Hot_Rooms','waterbody':'Waterbody','rainfall':'Rainfall','bus_ter':'Bus_Ter','parks':'Parks'})"
   ]
  },
  {
   "cell_type": "code",
   "execution_count": 13,
   "id": "14ceeea1",
   "metadata": {},
   "outputs": [],
   "source": [
    "# Let do the typecasting \n",
    "# Room_Num\n",
    "# Age\n",
    "# Teachers\n",
    "# N_Hos_Beds\n",
    "# N_Hot_Rooms\n"
   ]
  },
  {
   "cell_type": "code",
   "execution_count": 14,
   "id": "313d83df",
   "metadata": {},
   "outputs": [],
   "source": [
    "df_house_price_data['Room_Num'] = df_house_price_data['Room_Num'].astype('int')"
   ]
  },
  {
   "cell_type": "code",
   "execution_count": 15,
   "id": "b3132501",
   "metadata": {},
   "outputs": [
    {
     "name": "stdout",
     "output_type": "stream",
     "text": [
      "<class 'pandas.core.frame.DataFrame'>\n",
      "RangeIndex: 506 entries, 0 to 505\n",
      "Data columns (total 19 columns):\n",
      " #   Column       Non-Null Count  Dtype  \n",
      "---  ------       --------------  -----  \n",
      " 0   Price        506 non-null    float64\n",
      " 1   Crime_Rate   506 non-null    float64\n",
      " 2   Resid_Area   506 non-null    float64\n",
      " 3   Air_Qual     506 non-null    float64\n",
      " 4   Room_Num     506 non-null    int32  \n",
      " 5   Age          506 non-null    float64\n",
      " 6   Dist1        506 non-null    float64\n",
      " 7   Dist2        506 non-null    float64\n",
      " 8   Dist3        506 non-null    float64\n",
      " 9   Dist4        506 non-null    float64\n",
      " 10  Teachers     506 non-null    float64\n",
      " 11  Poor_Prop    506 non-null    float64\n",
      " 12  Airport      506 non-null    object \n",
      " 13  N_Hos_Beds   498 non-null    float64\n",
      " 14  N_Hot_Rooms  506 non-null    float64\n",
      " 15  Waterbody    506 non-null    object \n",
      " 16  Rainfall     506 non-null    int64  \n",
      " 17  Bus_Ter      506 non-null    object \n",
      " 18  Parks        506 non-null    float64\n",
      "dtypes: float64(14), int32(1), int64(1), object(3)\n",
      "memory usage: 73.3+ KB\n"
     ]
    }
   ],
   "source": [
    "df_house_price_data.info()"
   ]
  },
  {
   "cell_type": "code",
   "execution_count": 16,
   "id": "91bfe3ea",
   "metadata": {},
   "outputs": [],
   "source": [
    "df_house_price_data['Age'] = df_house_price_data['Age'].astype('int')"
   ]
  },
  {
   "cell_type": "code",
   "execution_count": 17,
   "id": "87423520",
   "metadata": {},
   "outputs": [],
   "source": [
    "df_house_price_data['Teachers'] = df_house_price_data['Teachers'].astype('int')"
   ]
  },
  {
   "cell_type": "raw",
   "id": "d29c2eeb",
   "metadata": {},
   "source": [
    "df_house_price_data['N_Hos_Beds'] = df_house_price_data['N_Hos_Beds'].astype('int')"
   ]
  },
  {
   "cell_type": "code",
   "execution_count": 18,
   "id": "bfe1a773",
   "metadata": {},
   "outputs": [],
   "source": [
    "df_house_price_data['N_Hot_Rooms'] = df_house_price_data['N_Hot_Rooms'].astype('int')"
   ]
  },
  {
   "cell_type": "code",
   "execution_count": 19,
   "id": "5416f50e",
   "metadata": {},
   "outputs": [
    {
     "data": {
      "image/png": "[encoded data removed]",
      "text/plain": [
       "<Figure size 432x288 with 16 Axes>"
      ]
     },
     "metadata": {
      "needs_background": "light"
     },
     "output_type": "display_data"
    }
   ],
   "source": [
    "# In previous we did the typecasting based on obsevartion and domain expertise\n",
    "# Now the time is for data visulization\n",
    "df_house_price_data.hist()\n",
    "plt.tight_layout()\n",
    "plt.show()"
   ]
  },
  {
   "cell_type": "code",
   "execution_count": 20,
   "id": "b95f4c0f",
   "metadata": {},
   "outputs": [
    {
     "data": {
      "image/png": "[encoded data removed]",
      "text/plain": [
       "<Figure size 432x288 with 1 Axes>"
      ]
     },
     "metadata": {
      "needs_background": "light"
     },
     "output_type": "display_data"
    }
   ],
   "source": [
    "# Room_Num\n",
    "df_house_price_data.Room_Num.plot(kind='kde')\n",
    "plt.show()\n"
   ]
  },
  {
   "cell_type": "code",
   "execution_count": 21,
   "id": "f975f6a6",
   "metadata": {},
   "outputs": [
    {
     "data": {
      "image/png": "[encoded data removed]",
      "text/plain": [
       "<Figure size 432x288 with 1 Axes>"
      ]
     },
     "metadata": {
      "needs_background": "light"
     },
     "output_type": "display_data"
    }
   ],
   "source": [
    "df_house_price_data.N_Hot_Rooms.plot(kind='kde')\n",
    "plt.show()"
   ]
  },
  {
   "cell_type": "code",
   "execution_count": 22,
   "id": "17c3e027",
   "metadata": {},
   "outputs": [
    {
     "data": {
      "image/png": "[encoded data removed]",
      "text/plain": [
       "<Figure size 432x288 with 1 Axes>"
      ]
     },
     "metadata": {
      "needs_background": "light"
     },
     "output_type": "display_data"
    }
   ],
   "source": [
    "# Room_Num\n",
    "df_house_price_data.Room_Num.hist(color='red')\n",
    "plt.show()\n",
    "\n"
   ]
  },
  {
   "cell_type": "code",
   "execution_count": 23,
   "id": "c361e854",
   "metadata": {},
   "outputs": [
    {
     "data": {
      "image/png": "[encoded data removed]",
      "text/plain": [
       "<Figure size 432x288 with 1 Axes>"
      ]
     },
     "metadata": {
      "needs_background": "light"
     },
     "output_type": "display_data"
    }
   ],
   "source": [
    "df_house_price_data.N_Hot_Rooms.hist(color='red')\n",
    "plt.show()"
   ]
  },
  {
   "cell_type": "code",
   "execution_count": 24,
   "id": "b5be9fab",
   "metadata": {},
   "outputs": [
    {
     "data": {
      "image/png": "[encoded data removed]",
      "text/plain": [
       "<Figure size 432x288 with 1 Axes>"
      ]
     },
     "metadata": {
      "needs_background": "light"
     },
     "output_type": "display_data"
    }
   ],
   "source": [
    "df_house_price_data.N_Hot_Rooms.plot(kind='kde')\n",
    "plt.show()"
   ]
  },
  {
   "cell_type": "code",
   "execution_count": 25,
   "id": "a98dd380",
   "metadata": {},
   "outputs": [],
   "source": [
    "df_house_price_data['Room_Num'] = df_house_price_data['Room_Num'].astype('object')"
   ]
  },
  {
   "cell_type": "code",
   "execution_count": 26,
   "id": "1cc4ecac",
   "metadata": {},
   "outputs": [
    {
     "name": "stdout",
     "output_type": "stream",
     "text": [
      "<class 'pandas.core.frame.DataFrame'>\n",
      "RangeIndex: 506 entries, 0 to 505\n",
      "Data columns (total 19 columns):\n",
      " #   Column       Non-Null Count  Dtype  \n",
      "---  ------       --------------  -----  \n",
      " 0   Price        506 non-null    float64\n",
      " 1   Crime_Rate   506 non-null    float64\n",
      " 2   Resid_Area   506 non-null    float64\n",
      " 3   Air_Qual     506 non-null    float64\n",
      " 4   Room_Num     506 non-null    object \n",
      " 5   Age          506 non-null    int32  \n",
      " 6   Dist1        506 non-null    float64\n",
      " 7   Dist2        506 non-null    float64\n",
      " 8   Dist3        506 non-null    float64\n",
      " 9   Dist4        506 non-null    float64\n",
      " 10  Teachers     506 non-null    int32  \n",
      " 11  Poor_Prop    506 non-null    float64\n",
      " 12  Airport      506 non-null    object \n",
      " 13  N_Hos_Beds   498 non-null    float64\n",
      " 14  N_Hot_Rooms  506 non-null    int32  \n",
      " 15  Waterbody    506 non-null    object \n",
      " 16  Rainfall     506 non-null    int64  \n",
      " 17  Bus_Ter      506 non-null    object \n",
      " 18  Parks        506 non-null    float64\n",
      "dtypes: float64(11), int32(3), int64(1), object(4)\n",
      "memory usage: 69.3+ KB\n"
     ]
    }
   ],
   "source": [
    "df_house_price_data.info()"
   ]
  },
  {
   "cell_type": "markdown",
   "id": "03f887ff",
   "metadata": {},
   "source": [
    "### Null value Handling"
   ]
  },
  {
   "cell_type": "code",
   "execution_count": 27,
   "id": "c4e7b254",
   "metadata": {},
   "outputs": [
    {
     "data": {
      "text/html": [
       "<div>\n",
       "<style scoped>\n",
       "    .dataframe tbody tr th:only-of-type {\n",
       "        vertical-align: middle;\n",
       "    }\n",
       "\n",
       "    .dataframe tbody tr th {\n",
       "        vertical-align: top;\n",
       "    }\n",
       "\n",
       "    .dataframe thead th {\n",
       "        text-align: right;\n",
       "    }\n",
       "</style>\n",
       "<table border=\"1\" class=\"dataframe\">\n",
       "  <thead>\n",
       "    <tr style=\"text-align: right;\">\n",
       "      <th></th>\n",
       "      <th>Price</th>\n",
       "      <th>Crime_Rate</th>\n",
       "      <th>Resid_Area</th>\n",
       "      <th>Air_Qual</th>\n",
       "      <th>Room_Num</th>\n",
       "      <th>Age</th>\n",
       "      <th>Dist1</th>\n",
       "      <th>Dist2</th>\n",
       "      <th>Dist3</th>\n",
       "      <th>Dist4</th>\n",
       "      <th>Teachers</th>\n",
       "      <th>Poor_Prop</th>\n",
       "      <th>Airport</th>\n",
       "      <th>N_Hos_Beds</th>\n",
       "      <th>N_Hot_Rooms</th>\n",
       "      <th>Waterbody</th>\n",
       "      <th>Rainfall</th>\n",
       "      <th>Bus_Ter</th>\n",
       "      <th>Parks</th>\n",
       "    </tr>\n",
       "  </thead>\n",
       "  <tbody>\n",
       "    <tr>\n",
       "      <th>0</th>\n",
       "      <td>24.0</td>\n",
       "      <td>0.00632</td>\n",
       "      <td>32.31</td>\n",
       "      <td>0.538</td>\n",
       "      <td>6</td>\n",
       "      <td>65</td>\n",
       "      <td>4.35</td>\n",
       "      <td>3.81</td>\n",
       "      <td>4.18</td>\n",
       "      <td>4.01</td>\n",
       "      <td>24</td>\n",
       "      <td>4.98</td>\n",
       "      <td>YES</td>\n",
       "      <td>5.480</td>\n",
       "      <td>11</td>\n",
       "      <td>River</td>\n",
       "      <td>23</td>\n",
       "      <td>YES</td>\n",
       "      <td>0.049347</td>\n",
       "    </tr>\n",
       "    <tr>\n",
       "      <th>1</th>\n",
       "      <td>21.6</td>\n",
       "      <td>0.02731</td>\n",
       "      <td>37.07</td>\n",
       "      <td>0.469</td>\n",
       "      <td>6</td>\n",
       "      <td>78</td>\n",
       "      <td>4.99</td>\n",
       "      <td>4.70</td>\n",
       "      <td>5.12</td>\n",
       "      <td>5.06</td>\n",
       "      <td>22</td>\n",
       "      <td>9.14</td>\n",
       "      <td>NO</td>\n",
       "      <td>7.332</td>\n",
       "      <td>12</td>\n",
       "      <td>Lake</td>\n",
       "      <td>42</td>\n",
       "      <td>YES</td>\n",
       "      <td>0.046146</td>\n",
       "    </tr>\n",
       "    <tr>\n",
       "      <th>2</th>\n",
       "      <td>34.7</td>\n",
       "      <td>0.02729</td>\n",
       "      <td>37.07</td>\n",
       "      <td>0.469</td>\n",
       "      <td>7</td>\n",
       "      <td>61</td>\n",
       "      <td>5.03</td>\n",
       "      <td>4.86</td>\n",
       "      <td>5.01</td>\n",
       "      <td>4.97</td>\n",
       "      <td>22</td>\n",
       "      <td>4.03</td>\n",
       "      <td>NO</td>\n",
       "      <td>7.394</td>\n",
       "      <td>101</td>\n",
       "      <td>None</td>\n",
       "      <td>38</td>\n",
       "      <td>YES</td>\n",
       "      <td>0.045764</td>\n",
       "    </tr>\n",
       "    <tr>\n",
       "      <th>3</th>\n",
       "      <td>33.4</td>\n",
       "      <td>0.03237</td>\n",
       "      <td>32.18</td>\n",
       "      <td>0.458</td>\n",
       "      <td>6</td>\n",
       "      <td>45</td>\n",
       "      <td>6.21</td>\n",
       "      <td>5.93</td>\n",
       "      <td>6.16</td>\n",
       "      <td>5.96</td>\n",
       "      <td>21</td>\n",
       "      <td>2.94</td>\n",
       "      <td>YES</td>\n",
       "      <td>9.268</td>\n",
       "      <td>11</td>\n",
       "      <td>Lake</td>\n",
       "      <td>45</td>\n",
       "      <td>YES</td>\n",
       "      <td>0.047151</td>\n",
       "    </tr>\n",
       "    <tr>\n",
       "      <th>4</th>\n",
       "      <td>36.2</td>\n",
       "      <td>0.06905</td>\n",
       "      <td>32.18</td>\n",
       "      <td>0.458</td>\n",
       "      <td>7</td>\n",
       "      <td>54</td>\n",
       "      <td>6.16</td>\n",
       "      <td>5.86</td>\n",
       "      <td>6.37</td>\n",
       "      <td>5.86</td>\n",
       "      <td>21</td>\n",
       "      <td>5.33</td>\n",
       "      <td>NO</td>\n",
       "      <td>8.824</td>\n",
       "      <td>11</td>\n",
       "      <td>Lake</td>\n",
       "      <td>55</td>\n",
       "      <td>YES</td>\n",
       "      <td>0.039474</td>\n",
       "    </tr>\n",
       "  </tbody>\n",
       "</table>\n",
       "</div>"
      ],
      "text/plain": [
       "   Price  Crime_Rate  Resid_Area  Air_Qual Room_Num  Age  Dist1  Dist2  Dist3  \\\n",
       "0   24.0     0.00632       32.31     0.538        6   65   4.35   3.81   4.18   \n",
       "1   21.6     0.02731       37.07     0.469        6   78   4.99   4.70   5.12   \n",
       "2   34.7     0.02729       37.07     0.469        7   61   5.03   4.86   5.01   \n",
       "3   33.4     0.03237       32.18     0.458        6   45   6.21   5.93   6.16   \n",
       "4   36.2     0.06905       32.18     0.458        7   54   6.16   5.86   6.37   \n",
       "\n",
       "   Dist4  Teachers  Poor_Prop Airport  N_Hos_Beds  N_Hot_Rooms Waterbody  \\\n",
       "0   4.01        24       4.98     YES       5.480           11     River   \n",
       "1   5.06        22       9.14      NO       7.332           12      Lake   \n",
       "2   4.97        22       4.03      NO       7.394          101      None   \n",
       "3   5.96        21       2.94     YES       9.268           11      Lake   \n",
       "4   5.86        21       5.33      NO       8.824           11      Lake   \n",
       "\n",
       "   Rainfall Bus_Ter     Parks  \n",
       "0        23     YES  0.049347  \n",
       "1        42     YES  0.046146  \n",
       "2        38     YES  0.045764  \n",
       "3        45     YES  0.047151  \n",
       "4        55     YES  0.039474  "
      ]
     },
     "execution_count": 27,
     "metadata": {},
     "output_type": "execute_result"
    }
   ],
   "source": [
    "df_house_price_data.head()"
   ]
  },
  {
   "cell_type": "code",
   "execution_count": 29,
   "id": "fa2b9f30",
   "metadata": {},
   "outputs": [
    {
     "data": {
      "text/plain": [
       "Price          0\n",
       "Crime_Rate     0\n",
       "Resid_Area     0\n",
       "Air_Qual       0\n",
       "Room_Num       0\n",
       "Age            0\n",
       "Dist1          0\n",
       "Dist2          0\n",
       "Dist3          0\n",
       "Dist4          0\n",
       "Teachers       0\n",
       "Poor_Prop      0\n",
       "Airport        0\n",
       "N_Hos_Beds     8\n",
       "N_Hot_Rooms    0\n",
       "Waterbody      0\n",
       "Rainfall       0\n",
       "Bus_Ter        0\n",
       "Parks          0\n",
       "dtype: int64"
      ]
     },
     "execution_count": 29,
     "metadata": {},
     "output_type": "execute_result"
    }
   ],
   "source": [
    "# Find the number of missing value\n",
    "df_house_price_data.isnull().sum()"
   ]
  },
  {
   "cell_type": "code",
   "execution_count": 30,
   "id": "3567b529",
   "metadata": {},
   "outputs": [
    {
     "name": "stdout",
     "output_type": "stream",
     "text": [
      "<class 'pandas.core.frame.DataFrame'>\n",
      "RangeIndex: 506 entries, 0 to 505\n",
      "Data columns (total 19 columns):\n",
      " #   Column       Non-Null Count  Dtype  \n",
      "---  ------       --------------  -----  \n",
      " 0   Price        506 non-null    float64\n",
      " 1   Crime_Rate   506 non-null    float64\n",
      " 2   Resid_Area   506 non-null    float64\n",
      " 3   Air_Qual     506 non-null    float64\n",
      " 4   Room_Num     506 non-null    object \n",
      " 5   Age          506 non-null    int32  \n",
      " 6   Dist1        506 non-null    float64\n",
      " 7   Dist2        506 non-null    float64\n",
      " 8   Dist3        506 non-null    float64\n",
      " 9   Dist4        506 non-null    float64\n",
      " 10  Teachers     506 non-null    int32  \n",
      " 11  Poor_Prop    506 non-null    float64\n",
      " 12  Airport      506 non-null    object \n",
      " 13  N_Hos_Beds   498 non-null    float64\n",
      " 14  N_Hot_Rooms  506 non-null    int32  \n",
      " 15  Waterbody    506 non-null    object \n",
      " 16  Rainfall     506 non-null    int64  \n",
      " 17  Bus_Ter      506 non-null    object \n",
      " 18  Parks        506 non-null    float64\n",
      "dtypes: float64(11), int32(3), int64(1), object(4)\n",
      "memory usage: 69.3+ KB\n"
     ]
    }
   ],
   "source": [
    "df_house_price_data.info()"
   ]
  },
  {
   "cell_type": "code",
   "execution_count": 31,
   "id": "c707dd26",
   "metadata": {},
   "outputs": [],
   "source": [
    "# Laws \n",
    "# When we have less than 10% data is missing, remove the observation\n",
    "# When we have missing precentage between 13 and 17 percent then we need to inpute the missing value \n",
    "# When we have 80 percent missing, remove the attribute"
   ]
  },
  {
   "cell_type": "code",
   "execution_count": 34,
   "id": "78620d1b",
   "metadata": {},
   "outputs": [
    {
     "data": {
      "text/plain": [
       "Price          0.00\n",
       "Crime_Rate     0.00\n",
       "Resid_Area     0.00\n",
       "Air_Qual       0.00\n",
       "Room_Num       0.00\n",
       "Age            0.00\n",
       "Dist1          0.00\n",
       "Dist2          0.00\n",
       "Dist3          0.00\n",
       "Dist4          0.00\n",
       "Teachers       0.00\n",
       "Poor_Prop      0.00\n",
       "Airport        0.00\n",
       "N_Hos_Beds     1.58\n",
       "N_Hot_Rooms    0.00\n",
       "Waterbody      0.00\n",
       "Rainfall       0.00\n",
       "Bus_Ter        0.00\n",
       "Parks          0.00\n",
       "dtype: float64"
      ]
     },
     "execution_count": 34,
     "metadata": {},
     "output_type": "execute_result"
    }
   ],
   "source": [
    "round(df_house_price_data.isnull().sum()/len(df_house_price_data)*100,2)"
   ]
  },
  {
   "cell_type": "code",
   "execution_count": 35,
   "id": "140eccb9",
   "metadata": {},
   "outputs": [],
   "source": [
    "# We have lees than 2 percent data is missing from N_Hos_Beds, Lets remove the observation\n",
    "df_house_price_data.dropna(inplace=True)"
   ]
  },
  {
   "cell_type": "code",
   "execution_count": 36,
   "id": "58397482",
   "metadata": {},
   "outputs": [
    {
     "data": {
      "text/plain": [
       "Price          0\n",
       "Crime_Rate     0\n",
       "Resid_Area     0\n",
       "Air_Qual       0\n",
       "Room_Num       0\n",
       "Age            0\n",
       "Dist1          0\n",
       "Dist2          0\n",
       "Dist3          0\n",
       "Dist4          0\n",
       "Teachers       0\n",
       "Poor_Prop      0\n",
       "Airport        0\n",
       "N_Hos_Beds     0\n",
       "N_Hot_Rooms    0\n",
       "Waterbody      0\n",
       "Rainfall       0\n",
       "Bus_Ter        0\n",
       "Parks          0\n",
       "dtype: int64"
      ]
     },
     "execution_count": 36,
     "metadata": {},
     "output_type": "execute_result"
    }
   ],
   "source": [
    "df_house_price_data.isnull().sum()"
   ]
  },
  {
   "cell_type": "markdown",
   "id": "fc2e1611",
   "metadata": {},
   "source": [
    "### Outlier detection and Treatment"
   ]
  },
  {
   "cell_type": "code",
   "execution_count": 40,
   "id": "71592d83",
   "metadata": {},
   "outputs": [
    {
     "data": {
      "image/png": "[encoded data removed]",
      "text/plain": [
       "<Figure size 432x288 with 1 Axes>"
      ]
     },
     "metadata": {
      "needs_background": "light"
     },
     "output_type": "display_data"
    }
   ],
   "source": [
    "df_house_price_data.plot(kind='box')\n",
    "plt.xticks(rotation=90)\n",
    "plt.title('Outlier Detection')\n",
    "plt.show()"
   ]
  },
  {
   "cell_type": "code",
   "execution_count": null,
   "id": "9e8775a5",
   "metadata": {},
   "outputs": [],
   "source": []
  },
  {
   "cell_type": "code",
   "execution_count": null,
   "id": "66a9cf55",
   "metadata": {},
   "outputs": [],
   "source": []
  },
  {
   "cell_type": "code",
   "execution_count": null,
   "id": "0648696a",
   "metadata": {},
   "outputs": [],
   "source": []
  },
  {
   "cell_type": "markdown",
   "id": "3443799b",
   "metadata": {},
   "source": [
    "# 3 EDA"
   ]
  },
  {
   "cell_type": "code",
   "execution_count": 41,
   "id": "176e1c4b",
   "metadata": {},
   "outputs": [],
   "source": [
    "# Univraiate analysis\n",
    "# Bivraiate analysis\n",
    "# multivariate analysis"
   ]
  },
  {
   "cell_type": "markdown",
   "id": "d767510d",
   "metadata": {},
   "source": [
    "### Univraiate Analysis"
   ]
  },
  {
   "cell_type": "code",
   "execution_count": 45,
   "id": "84dad55b",
   "metadata": {},
   "outputs": [],
   "source": [
    "# Lets segrigate numerical columns and categorical columns\n",
    "df_num =df_house_price_data.select_dtypes(include=np.number)"
   ]
  },
  {
   "cell_type": "code",
   "execution_count": 47,
   "id": "315be4f1",
   "metadata": {},
   "outputs": [],
   "source": [
    "# categorical data frame\n",
    "df_cat = df_house_price_data.select_dtypes(include=['object'])"
   ]
  },
  {
   "cell_type": "code",
   "execution_count": 49,
   "id": "d259ba57",
   "metadata": {},
   "outputs": [
    {
     "data": {
      "text/html": [
       "<div>\n",
       "<style scoped>\n",
       "    .dataframe tbody tr th:only-of-type {\n",
       "        vertical-align: middle;\n",
       "    }\n",
       "\n",
       "    .dataframe tbody tr th {\n",
       "        vertical-align: top;\n",
       "    }\n",
       "\n",
       "    .dataframe thead th {\n",
       "        text-align: right;\n",
       "    }\n",
       "</style>\n",
       "<table border=\"1\" class=\"dataframe\">\n",
       "  <thead>\n",
       "    <tr style=\"text-align: right;\">\n",
       "      <th></th>\n",
       "      <th>Room_Num</th>\n",
       "      <th>Airport</th>\n",
       "      <th>Waterbody</th>\n",
       "      <th>Bus_Ter</th>\n",
       "    </tr>\n",
       "  </thead>\n",
       "  <tbody>\n",
       "    <tr>\n",
       "      <th>0</th>\n",
       "      <td>6</td>\n",
       "      <td>YES</td>\n",
       "      <td>River</td>\n",
       "      <td>YES</td>\n",
       "    </tr>\n",
       "    <tr>\n",
       "      <th>1</th>\n",
       "      <td>6</td>\n",
       "      <td>NO</td>\n",
       "      <td>Lake</td>\n",
       "      <td>YES</td>\n",
       "    </tr>\n",
       "    <tr>\n",
       "      <th>2</th>\n",
       "      <td>7</td>\n",
       "      <td>NO</td>\n",
       "      <td>None</td>\n",
       "      <td>YES</td>\n",
       "    </tr>\n",
       "    <tr>\n",
       "      <th>3</th>\n",
       "      <td>6</td>\n",
       "      <td>YES</td>\n",
       "      <td>Lake</td>\n",
       "      <td>YES</td>\n",
       "    </tr>\n",
       "    <tr>\n",
       "      <th>4</th>\n",
       "      <td>7</td>\n",
       "      <td>NO</td>\n",
       "      <td>Lake</td>\n",
       "      <td>YES</td>\n",
       "    </tr>\n",
       "  </tbody>\n",
       "</table>\n",
       "</div>"
      ],
      "text/plain": [
       "  Room_Num Airport Waterbody Bus_Ter\n",
       "0        6     YES     River     YES\n",
       "1        6      NO      Lake     YES\n",
       "2        7      NO      None     YES\n",
       "3        6     YES      Lake     YES\n",
       "4        7      NO      Lake     YES"
      ]
     },
     "execution_count": 49,
     "metadata": {},
     "output_type": "execute_result"
    }
   ],
   "source": [
    "df_cat.head()"
   ]
  },
  {
   "cell_type": "markdown",
   "id": "adc3cdb1",
   "metadata": {},
   "source": [
    "#### Room_Number"
   ]
  },
  {
   "cell_type": "code",
   "execution_count": 50,
   "id": "d4bcc0ad",
   "metadata": {},
   "outputs": [
    {
     "data": {
      "text/plain": [
       "6    266\n",
       "5    154\n",
       "7     50\n",
       "8     13\n",
       "4     13\n",
       "3      2\n",
       "Name: Room_Num, dtype: int64"
      ]
     },
     "execution_count": 50,
     "metadata": {},
     "output_type": "execute_result"
    }
   ],
   "source": [
    "# Find the count each category present in the particular columns\n",
    "df_cat.Room_Num.value_counts()"
   ]
  },
  {
   "cell_type": "code",
   "execution_count": 53,
   "id": "c4d9b364",
   "metadata": {},
   "outputs": [
    {
     "data": {
      "image/png": "[encoded data removed]",
      "text/plain": [
       "<Figure size 432x288 with 1 Axes>"
      ]
     },
     "metadata": {
      "needs_background": "light"
     },
     "output_type": "display_data"
    }
   ],
   "source": [
    "# Visualize the count\n",
    "df_cat.Room_Num.value_counts().plot(kind='bar')\n",
    "plt.show()"
   ]
  },
  {
   "cell_type": "markdown",
   "id": "a24cb086",
   "metadata": {},
   "source": [
    "**Interprection**\n",
    " - We have imbalance data in room number column.\n",
    " - 6 is category whose is dominating most, it count is 266.\n",
    " - 3 is the category having last number of obsrevation, it count is 2."
   ]
  },
  {
   "cell_type": "code",
   "execution_count": 54,
   "id": "f96abb88",
   "metadata": {},
   "outputs": [
    {
     "data": {
      "text/html": [
       "<div>\n",
       "<style scoped>\n",
       "    .dataframe tbody tr th:only-of-type {\n",
       "        vertical-align: middle;\n",
       "    }\n",
       "\n",
       "    .dataframe tbody tr th {\n",
       "        vertical-align: top;\n",
       "    }\n",
       "\n",
       "    .dataframe thead th {\n",
       "        text-align: right;\n",
       "    }\n",
       "</style>\n",
       "<table border=\"1\" class=\"dataframe\">\n",
       "  <thead>\n",
       "    <tr style=\"text-align: right;\">\n",
       "      <th></th>\n",
       "      <th>Room_Num</th>\n",
       "      <th>Airport</th>\n",
       "      <th>Waterbody</th>\n",
       "      <th>Bus_Ter</th>\n",
       "    </tr>\n",
       "  </thead>\n",
       "  <tbody>\n",
       "    <tr>\n",
       "      <th>0</th>\n",
       "      <td>6</td>\n",
       "      <td>YES</td>\n",
       "      <td>River</td>\n",
       "      <td>YES</td>\n",
       "    </tr>\n",
       "    <tr>\n",
       "      <th>1</th>\n",
       "      <td>6</td>\n",
       "      <td>NO</td>\n",
       "      <td>Lake</td>\n",
       "      <td>YES</td>\n",
       "    </tr>\n",
       "    <tr>\n",
       "      <th>2</th>\n",
       "      <td>7</td>\n",
       "      <td>NO</td>\n",
       "      <td>None</td>\n",
       "      <td>YES</td>\n",
       "    </tr>\n",
       "    <tr>\n",
       "      <th>3</th>\n",
       "      <td>6</td>\n",
       "      <td>YES</td>\n",
       "      <td>Lake</td>\n",
       "      <td>YES</td>\n",
       "    </tr>\n",
       "    <tr>\n",
       "      <th>4</th>\n",
       "      <td>7</td>\n",
       "      <td>NO</td>\n",
       "      <td>Lake</td>\n",
       "      <td>YES</td>\n",
       "    </tr>\n",
       "  </tbody>\n",
       "</table>\n",
       "</div>"
      ],
      "text/plain": [
       "  Room_Num Airport Waterbody Bus_Ter\n",
       "0        6     YES     River     YES\n",
       "1        6      NO      Lake     YES\n",
       "2        7      NO      None     YES\n",
       "3        6     YES      Lake     YES\n",
       "4        7      NO      Lake     YES"
      ]
     },
     "execution_count": 54,
     "metadata": {},
     "output_type": "execute_result"
    }
   ],
   "source": [
    "df_cat.head()"
   ]
  },
  {
   "cell_type": "markdown",
   "id": "76af1019",
   "metadata": {},
   "source": [
    "### Airport "
   ]
  },
  {
   "cell_type": "code",
   "execution_count": 55,
   "id": "d79f87c9",
   "metadata": {},
   "outputs": [
    {
     "data": {
      "text/plain": [
       "YES    273\n",
       "NO     225\n",
       "Name: Airport, dtype: int64"
      ]
     },
     "execution_count": 55,
     "metadata": {},
     "output_type": "execute_result"
    }
   ],
   "source": [
    "# Find the count each category present in the particular columns\n",
    "df_cat.Airport.value_counts()"
   ]
  },
  {
   "cell_type": "code",
   "execution_count": 56,
   "id": "31f7dc9e",
   "metadata": {},
   "outputs": [
    {
     "data": {
      "image/png": "[encoded data removed]",
      "text/plain": [
       "<Figure size 432x288 with 1 Axes>"
      ]
     },
     "metadata": {
      "needs_background": "light"
     },
     "output_type": "display_data"
    }
   ],
   "source": [
    "# plot the value count\n",
    "df_cat.Airport.value_counts().plot(kind='bar',color=\"red\")\n",
    "plt.show()"
   ]
  },
  {
   "cell_type": "markdown",
   "id": "32a97f8d",
   "metadata": {},
   "source": [
    "**Interprection**\n",
    " - We have balance data in Airport colunm\n",
    " - In the data there is 273 places where airport is present and 225 place airport is not present "
   ]
  },
  {
   "cell_type": "code",
   "execution_count": 57,
   "id": "27116676",
   "metadata": {},
   "outputs": [
    {
     "data": {
      "text/html": [
       "<div>\n",
       "<style scoped>\n",
       "    .dataframe tbody tr th:only-of-type {\n",
       "        vertical-align: middle;\n",
       "    }\n",
       "\n",
       "    .dataframe tbody tr th {\n",
       "        vertical-align: top;\n",
       "    }\n",
       "\n",
       "    .dataframe thead th {\n",
       "        text-align: right;\n",
       "    }\n",
       "</style>\n",
       "<table border=\"1\" class=\"dataframe\">\n",
       "  <thead>\n",
       "    <tr style=\"text-align: right;\">\n",
       "      <th></th>\n",
       "      <th>Room_Num</th>\n",
       "      <th>Airport</th>\n",
       "      <th>Waterbody</th>\n",
       "      <th>Bus_Ter</th>\n",
       "    </tr>\n",
       "  </thead>\n",
       "  <tbody>\n",
       "    <tr>\n",
       "      <th>0</th>\n",
       "      <td>6</td>\n",
       "      <td>YES</td>\n",
       "      <td>River</td>\n",
       "      <td>YES</td>\n",
       "    </tr>\n",
       "    <tr>\n",
       "      <th>1</th>\n",
       "      <td>6</td>\n",
       "      <td>NO</td>\n",
       "      <td>Lake</td>\n",
       "      <td>YES</td>\n",
       "    </tr>\n",
       "  </tbody>\n",
       "</table>\n",
       "</div>"
      ],
      "text/plain": [
       "  Room_Num Airport Waterbody Bus_Ter\n",
       "0        6     YES     River     YES\n",
       "1        6      NO      Lake     YES"
      ]
     },
     "execution_count": 57,
     "metadata": {},
     "output_type": "execute_result"
    }
   ],
   "source": [
    "df_cat.head(2)"
   ]
  },
  {
   "cell_type": "markdown",
   "id": "c61d9c39",
   "metadata": {},
   "source": [
    "### Waterbody"
   ]
  },
  {
   "cell_type": "code",
   "execution_count": 58,
   "id": "97efd4e3",
   "metadata": {},
   "outputs": [
    {
     "data": {
      "text/plain": [
       "River             178\n",
       "None              155\n",
       "Lake               94\n",
       "Lake and River     71\n",
       "Name: Waterbody, dtype: int64"
      ]
     },
     "execution_count": 58,
     "metadata": {},
     "output_type": "execute_result"
    }
   ],
   "source": [
    "# Find the count each category present in the particular columns\n",
    "df_cat.Waterbody.value_counts()"
   ]
  },
  {
   "cell_type": "code",
   "execution_count": 66,
   "id": "4e80afac",
   "metadata": {},
   "outputs": [
    {
     "data": {
      "image/png": "[encoded data removed]",
      "text/plain": [
       "<Figure size 432x288 with 1 Axes>"
      ]
     },
     "metadata": {
      "needs_background": "light"
     },
     "output_type": "display_data"
    }
   ],
   "source": [
    "# plot the value count\n",
    "df_cat.Waterbody.value_counts().plot(kind='bar',color=\"black\")\n",
    "plt.title('count of waterbody')\n",
    "plt.ylabel('count')\n",
    "plt.xlabel('waterbody')\n",
    "plt.xticks(rotation=45)\n",
    "plt.grid()\n",
    "plt.show()"
   ]
  },
  {
   "cell_type": "markdown",
   "id": "6e888db9",
   "metadata": {},
   "source": [
    "**Interprection**\n",
    " - Most of the place having a river and waterbody it count is 178\n",
    " - Therer id is few place where lake and river are the waterbody \n",
    " - Data is imbalance"
   ]
  },
  {
   "cell_type": "code",
   "execution_count": 67,
   "id": "23974b4f",
   "metadata": {},
   "outputs": [
    {
     "data": {
      "text/html": [
       "<div>\n",
       "<style scoped>\n",
       "    .dataframe tbody tr th:only-of-type {\n",
       "        vertical-align: middle;\n",
       "    }\n",
       "\n",
       "    .dataframe tbody tr th {\n",
       "        vertical-align: top;\n",
       "    }\n",
       "\n",
       "    .dataframe thead th {\n",
       "        text-align: right;\n",
       "    }\n",
       "</style>\n",
       "<table border=\"1\" class=\"dataframe\">\n",
       "  <thead>\n",
       "    <tr style=\"text-align: right;\">\n",
       "      <th></th>\n",
       "      <th>Room_Num</th>\n",
       "      <th>Airport</th>\n",
       "      <th>Waterbody</th>\n",
       "      <th>Bus_Ter</th>\n",
       "    </tr>\n",
       "  </thead>\n",
       "  <tbody>\n",
       "    <tr>\n",
       "      <th>0</th>\n",
       "      <td>6</td>\n",
       "      <td>YES</td>\n",
       "      <td>River</td>\n",
       "      <td>YES</td>\n",
       "    </tr>\n",
       "    <tr>\n",
       "      <th>1</th>\n",
       "      <td>6</td>\n",
       "      <td>NO</td>\n",
       "      <td>Lake</td>\n",
       "      <td>YES</td>\n",
       "    </tr>\n",
       "  </tbody>\n",
       "</table>\n",
       "</div>"
      ],
      "text/plain": [
       "  Room_Num Airport Waterbody Bus_Ter\n",
       "0        6     YES     River     YES\n",
       "1        6      NO      Lake     YES"
      ]
     },
     "execution_count": 67,
     "metadata": {},
     "output_type": "execute_result"
    }
   ],
   "source": [
    "df_cat.head(2)\n"
   ]
  },
  {
   "cell_type": "markdown",
   "id": "ac46e1a9",
   "metadata": {},
   "source": [
    "### Bus_Terminal"
   ]
  },
  {
   "cell_type": "code",
   "execution_count": 73,
   "id": "01eb831b",
   "metadata": {},
   "outputs": [
    {
     "data": {
      "text/plain": [
       "YES    498\n",
       "Name: Bus_Ter, dtype: int64"
      ]
     },
     "execution_count": 73,
     "metadata": {},
     "output_type": "execute_result"
    }
   ],
   "source": [
    "# find the count \n",
    "df_cat.Bus_Ter.value_counts()"
   ]
  },
  {
   "cell_type": "code",
   "execution_count": 77,
   "id": "e2a49254",
   "metadata": {},
   "outputs": [
    {
     "data": {
      "image/png": "[encoded data removed]",
      "text/plain": [
       "<Figure size 432x288 with 1 Axes>"
      ]
     },
     "metadata": {
      "needs_background": "light"
     },
     "output_type": "display_data"
    }
   ],
   "source": [
    "# plot the value count\n",
    "df_cat.Bus_Ter.value_counts().plot(kind='bar',color=\"black\")\n",
    "plt.title('count of Bus_Terminal')\n",
    "plt.ylabel('count')\n",
    "plt.xlabel('Bus_Terminal')\n",
    "plt.xticks(rotation=45)\n",
    "plt.grid()\n",
    "plt.show()"
   ]
  },
  {
   "cell_type": "markdown",
   "id": "d5c8ee13",
   "metadata": {},
   "source": [
    "**Interprection**\n",
    " - All the place we have contains the bus terminal\n",
    " - ACTION: remoce the column from data"
   ]
  },
  {
   "cell_type": "code",
   "execution_count": 82,
   "id": "e4ba7c3f",
   "metadata": {},
   "outputs": [],
   "source": [
    "# Drop the column \n",
    "df_house_price_data.drop('Bus_Ter',axis=1,inplace=True)"
   ]
  },
  {
   "cell_type": "code",
   "execution_count": 83,
   "id": "5be2954b",
   "metadata": {},
   "outputs": [
    {
     "data": {
      "text/plain": [
       "18"
      ]
     },
     "execution_count": 83,
     "metadata": {},
     "output_type": "execute_result"
    }
   ],
   "source": [
    "df_house_price_data.shape[1]"
   ]
  },
  {
   "cell_type": "markdown",
   "id": "5281cf47",
   "metadata": {},
   "source": [
    "### Univariate Analysis on numerical data"
   ]
  },
  {
   "cell_type": "code",
   "execution_count": 85,
   "id": "cee03ab0",
   "metadata": {},
   "outputs": [
    {
     "data": {
      "text/html": [
       "<div>\n",
       "<style scoped>\n",
       "    .dataframe tbody tr th:only-of-type {\n",
       "        vertical-align: middle;\n",
       "    }\n",
       "\n",
       "    .dataframe tbody tr th {\n",
       "        vertical-align: top;\n",
       "    }\n",
       "\n",
       "    .dataframe thead th {\n",
       "        text-align: right;\n",
       "    }\n",
       "</style>\n",
       "<table border=\"1\" class=\"dataframe\">\n",
       "  <thead>\n",
       "    <tr style=\"text-align: right;\">\n",
       "      <th></th>\n",
       "      <th>Price</th>\n",
       "      <th>Crime_Rate</th>\n",
       "      <th>Resid_Area</th>\n",
       "      <th>Air_Qual</th>\n",
       "      <th>Age</th>\n",
       "      <th>Dist1</th>\n",
       "      <th>Dist2</th>\n",
       "      <th>Dist3</th>\n",
       "      <th>Dist4</th>\n",
       "      <th>Teachers</th>\n",
       "      <th>Poor_Prop</th>\n",
       "      <th>N_Hos_Beds</th>\n",
       "      <th>N_Hot_Rooms</th>\n",
       "      <th>Rainfall</th>\n",
       "      <th>Parks</th>\n",
       "    </tr>\n",
       "  </thead>\n",
       "  <tbody>\n",
       "    <tr>\n",
       "      <th>0</th>\n",
       "      <td>24.0</td>\n",
       "      <td>0.00632</td>\n",
       "      <td>32.31</td>\n",
       "      <td>0.538</td>\n",
       "      <td>65</td>\n",
       "      <td>4.35</td>\n",
       "      <td>3.81</td>\n",
       "      <td>4.18</td>\n",
       "      <td>4.01</td>\n",
       "      <td>24</td>\n",
       "      <td>4.98</td>\n",
       "      <td>5.480</td>\n",
       "      <td>11</td>\n",
       "      <td>23</td>\n",
       "      <td>0.049347</td>\n",
       "    </tr>\n",
       "    <tr>\n",
       "      <th>1</th>\n",
       "      <td>21.6</td>\n",
       "      <td>0.02731</td>\n",
       "      <td>37.07</td>\n",
       "      <td>0.469</td>\n",
       "      <td>78</td>\n",
       "      <td>4.99</td>\n",
       "      <td>4.70</td>\n",
       "      <td>5.12</td>\n",
       "      <td>5.06</td>\n",
       "      <td>22</td>\n",
       "      <td>9.14</td>\n",
       "      <td>7.332</td>\n",
       "      <td>12</td>\n",
       "      <td>42</td>\n",
       "      <td>0.046146</td>\n",
       "    </tr>\n",
       "    <tr>\n",
       "      <th>2</th>\n",
       "      <td>34.7</td>\n",
       "      <td>0.02729</td>\n",
       "      <td>37.07</td>\n",
       "      <td>0.469</td>\n",
       "      <td>61</td>\n",
       "      <td>5.03</td>\n",
       "      <td>4.86</td>\n",
       "      <td>5.01</td>\n",
       "      <td>4.97</td>\n",
       "      <td>22</td>\n",
       "      <td>4.03</td>\n",
       "      <td>7.394</td>\n",
       "      <td>101</td>\n",
       "      <td>38</td>\n",
       "      <td>0.045764</td>\n",
       "    </tr>\n",
       "    <tr>\n",
       "      <th>3</th>\n",
       "      <td>33.4</td>\n",
       "      <td>0.03237</td>\n",
       "      <td>32.18</td>\n",
       "      <td>0.458</td>\n",
       "      <td>45</td>\n",
       "      <td>6.21</td>\n",
       "      <td>5.93</td>\n",
       "      <td>6.16</td>\n",
       "      <td>5.96</td>\n",
       "      <td>21</td>\n",
       "      <td>2.94</td>\n",
       "      <td>9.268</td>\n",
       "      <td>11</td>\n",
       "      <td>45</td>\n",
       "      <td>0.047151</td>\n",
       "    </tr>\n",
       "    <tr>\n",
       "      <th>4</th>\n",
       "      <td>36.2</td>\n",
       "      <td>0.06905</td>\n",
       "      <td>32.18</td>\n",
       "      <td>0.458</td>\n",
       "      <td>54</td>\n",
       "      <td>6.16</td>\n",
       "      <td>5.86</td>\n",
       "      <td>6.37</td>\n",
       "      <td>5.86</td>\n",
       "      <td>21</td>\n",
       "      <td>5.33</td>\n",
       "      <td>8.824</td>\n",
       "      <td>11</td>\n",
       "      <td>55</td>\n",
       "      <td>0.039474</td>\n",
       "    </tr>\n",
       "  </tbody>\n",
       "</table>\n",
       "</div>"
      ],
      "text/plain": [
       "   Price  Crime_Rate  Resid_Area  Air_Qual  Age  Dist1  Dist2  Dist3  Dist4  \\\n",
       "0   24.0     0.00632       32.31     0.538   65   4.35   3.81   4.18   4.01   \n",
       "1   21.6     0.02731       37.07     0.469   78   4.99   4.70   5.12   5.06   \n",
       "2   34.7     0.02729       37.07     0.469   61   5.03   4.86   5.01   4.97   \n",
       "3   33.4     0.03237       32.18     0.458   45   6.21   5.93   6.16   5.96   \n",
       "4   36.2     0.06905       32.18     0.458   54   6.16   5.86   6.37   5.86   \n",
       "\n",
       "   Teachers  Poor_Prop  N_Hos_Beds  N_Hot_Rooms  Rainfall     Parks  \n",
       "0        24       4.98       5.480           11        23  0.049347  \n",
       "1        22       9.14       7.332           12        42  0.046146  \n",
       "2        22       4.03       7.394          101        38  0.045764  \n",
       "3        21       2.94       9.268           11        45  0.047151  \n",
       "4        21       5.33       8.824           11        55  0.039474  "
      ]
     },
     "execution_count": 85,
     "metadata": {},
     "output_type": "execute_result"
    }
   ],
   "source": [
    "df_num.head()"
   ]
  },
  {
   "cell_type": "markdown",
   "id": "de64718b",
   "metadata": {},
   "source": [
    "#### Price"
   ]
  },
  {
   "cell_type": "code",
   "execution_count": 87,
   "id": "499a1ac8",
   "metadata": {},
   "outputs": [
    {
     "data": {
      "image/png": "[encoded data removed]",
      "text/plain": [
       "<Figure size 432x288 with 1 Axes>"
      ]
     },
     "metadata": {
      "needs_background": "light"
     },
     "output_type": "display_data"
    }
   ],
   "source": [
    "df_num.Price.plot(kind='kde')\n",
    "plt.grid()\n",
    "plt.title('kde of Price')\n",
    "plt.show()"
   ]
  },
  {
   "cell_type": "code",
   "execution_count": 88,
   "id": "32779b07",
   "metadata": {},
   "outputs": [
    {
     "data": {
      "text/plain": [
       "5.0"
      ]
     },
     "execution_count": 88,
     "metadata": {},
     "output_type": "execute_result"
    }
   ],
   "source": [
    "# Find the minimum value\n",
    "df_num.Price.min()"
   ]
  },
  {
   "cell_type": "code",
   "execution_count": 89,
   "id": "6620afac",
   "metadata": {},
   "outputs": [
    {
     "data": {
      "text/plain": [
       "50.0"
      ]
     },
     "execution_count": 89,
     "metadata": {},
     "output_type": "execute_result"
    }
   ],
   "source": [
    "# Find the maximum value\n",
    "df_num.Price.max()"
   ]
  },
  {
   "cell_type": "code",
   "execution_count": 92,
   "id": "da07a7cf",
   "metadata": {},
   "outputs": [
    {
     "data": {
      "text/plain": [
       "22.578714859437774"
      ]
     },
     "execution_count": 92,
     "metadata": {},
     "output_type": "execute_result"
    }
   ],
   "source": [
    "# Find the Average value\n",
    "df_num.Price.mean()"
   ]
  },
  {
   "cell_type": "markdown",
   "id": "7df6f751",
   "metadata": {},
   "source": [
    "**Interprection**\n",
    " - This data sligth normally distributes.\n",
    " - The house we have thier price lies between 8 lacs to 40 lacs.\n",
    " - The house we have lest Price is 5 lacs\n",
    " - The house we have maximum is 50 lacs\n",
    " - The average price of house is 22 lacs"
   ]
  },
  {
   "cell_type": "markdown",
   "id": "c0abed24",
   "metadata": {},
   "source": [
    "### Crime_Rate"
   ]
  },
  {
   "cell_type": "code",
   "execution_count": 95,
   "id": "3ea0bf3a",
   "metadata": {},
   "outputs": [
    {
     "data": {
      "text/plain": [
       "0.00632"
      ]
     },
     "execution_count": 95,
     "metadata": {},
     "output_type": "execute_result"
    }
   ],
   "source": [
    "# Find the minimum value\n",
    "df_num.Crime_Rate.min()"
   ]
  },
  {
   "cell_type": "code",
   "execution_count": 96,
   "id": "b1f17c41",
   "metadata": {},
   "outputs": [
    {
     "data": {
      "text/plain": [
       "88.9762"
      ]
     },
     "execution_count": 96,
     "metadata": {},
     "output_type": "execute_result"
    }
   ],
   "source": [
    "# Find the maximum value\n",
    "df_num.Crime_Rate.max()"
   ]
  },
  {
   "cell_type": "code",
   "execution_count": 97,
   "id": "7b51f715",
   "metadata": {},
   "outputs": [
    {
     "data": {
      "text/plain": [
       "3.588967791164659"
      ]
     },
     "execution_count": 97,
     "metadata": {},
     "output_type": "execute_result"
    }
   ],
   "source": [
    "# Find the Average value\n",
    "df_num.Crime_Rate.mean()"
   ]
  },
  {
   "cell_type": "code",
   "execution_count": 98,
   "id": "e6cf6370",
   "metadata": {},
   "outputs": [
    {
     "data": {
      "image/png": "[encoded data removed]",
      "text/plain": [
       "<Figure size 432x288 with 1 Axes>"
      ]
     },
     "metadata": {
      "needs_background": "light"
     },
     "output_type": "display_data"
    }
   ],
   "source": [
    "df_num.Crime_Rate.plot(kind='kde')\n",
    "plt.grid()\n",
    "plt.title('kde of Crime_Rate')\n",
    "plt.show()"
   ]
  },
  {
   "cell_type": "markdown",
   "id": "86020b18",
   "metadata": {},
   "source": [
    "**Interprection**\n",
    " - We have minimum value of crime_rate is 0.00632\n",
    " - We have maximum value of crime_rate is 88.9762\n",
    " - We have Average value of crime_rate is 3.5888\n",
    " - The value lies between 0 and 24"
   ]
  },
  {
   "cell_type": "code",
   "execution_count": 99,
   "id": "b14d8993",
   "metadata": {},
   "outputs": [
    {
     "data": {
      "text/html": [
       "<div>\n",
       "<style scoped>\n",
       "    .dataframe tbody tr th:only-of-type {\n",
       "        vertical-align: middle;\n",
       "    }\n",
       "\n",
       "    .dataframe tbody tr th {\n",
       "        vertical-align: top;\n",
       "    }\n",
       "\n",
       "    .dataframe thead th {\n",
       "        text-align: right;\n",
       "    }\n",
       "</style>\n",
       "<table border=\"1\" class=\"dataframe\">\n",
       "  <thead>\n",
       "    <tr style=\"text-align: right;\">\n",
       "      <th></th>\n",
       "      <th>Price</th>\n",
       "      <th>Crime_Rate</th>\n",
       "      <th>Resid_Area</th>\n",
       "      <th>Air_Qual</th>\n",
       "      <th>Age</th>\n",
       "      <th>Dist1</th>\n",
       "      <th>Dist2</th>\n",
       "      <th>Dist3</th>\n",
       "      <th>Dist4</th>\n",
       "      <th>Teachers</th>\n",
       "      <th>Poor_Prop</th>\n",
       "      <th>N_Hos_Beds</th>\n",
       "      <th>N_Hot_Rooms</th>\n",
       "      <th>Rainfall</th>\n",
       "      <th>Parks</th>\n",
       "    </tr>\n",
       "  </thead>\n",
       "  <tbody>\n",
       "    <tr>\n",
       "      <th>0</th>\n",
       "      <td>24.0</td>\n",
       "      <td>0.00632</td>\n",
       "      <td>32.31</td>\n",
       "      <td>0.538</td>\n",
       "      <td>65</td>\n",
       "      <td>4.35</td>\n",
       "      <td>3.81</td>\n",
       "      <td>4.18</td>\n",
       "      <td>4.01</td>\n",
       "      <td>24</td>\n",
       "      <td>4.98</td>\n",
       "      <td>5.480</td>\n",
       "      <td>11</td>\n",
       "      <td>23</td>\n",
       "      <td>0.049347</td>\n",
       "    </tr>\n",
       "    <tr>\n",
       "      <th>1</th>\n",
       "      <td>21.6</td>\n",
       "      <td>0.02731</td>\n",
       "      <td>37.07</td>\n",
       "      <td>0.469</td>\n",
       "      <td>78</td>\n",
       "      <td>4.99</td>\n",
       "      <td>4.70</td>\n",
       "      <td>5.12</td>\n",
       "      <td>5.06</td>\n",
       "      <td>22</td>\n",
       "      <td>9.14</td>\n",
       "      <td>7.332</td>\n",
       "      <td>12</td>\n",
       "      <td>42</td>\n",
       "      <td>0.046146</td>\n",
       "    </tr>\n",
       "    <tr>\n",
       "      <th>2</th>\n",
       "      <td>34.7</td>\n",
       "      <td>0.02729</td>\n",
       "      <td>37.07</td>\n",
       "      <td>0.469</td>\n",
       "      <td>61</td>\n",
       "      <td>5.03</td>\n",
       "      <td>4.86</td>\n",
       "      <td>5.01</td>\n",
       "      <td>4.97</td>\n",
       "      <td>22</td>\n",
       "      <td>4.03</td>\n",
       "      <td>7.394</td>\n",
       "      <td>101</td>\n",
       "      <td>38</td>\n",
       "      <td>0.045764</td>\n",
       "    </tr>\n",
       "    <tr>\n",
       "      <th>3</th>\n",
       "      <td>33.4</td>\n",
       "      <td>0.03237</td>\n",
       "      <td>32.18</td>\n",
       "      <td>0.458</td>\n",
       "      <td>45</td>\n",
       "      <td>6.21</td>\n",
       "      <td>5.93</td>\n",
       "      <td>6.16</td>\n",
       "      <td>5.96</td>\n",
       "      <td>21</td>\n",
       "      <td>2.94</td>\n",
       "      <td>9.268</td>\n",
       "      <td>11</td>\n",
       "      <td>45</td>\n",
       "      <td>0.047151</td>\n",
       "    </tr>\n",
       "    <tr>\n",
       "      <th>4</th>\n",
       "      <td>36.2</td>\n",
       "      <td>0.06905</td>\n",
       "      <td>32.18</td>\n",
       "      <td>0.458</td>\n",
       "      <td>54</td>\n",
       "      <td>6.16</td>\n",
       "      <td>5.86</td>\n",
       "      <td>6.37</td>\n",
       "      <td>5.86</td>\n",
       "      <td>21</td>\n",
       "      <td>5.33</td>\n",
       "      <td>8.824</td>\n",
       "      <td>11</td>\n",
       "      <td>55</td>\n",
       "      <td>0.039474</td>\n",
       "    </tr>\n",
       "  </tbody>\n",
       "</table>\n",
       "</div>"
      ],
      "text/plain": [
       "   Price  Crime_Rate  Resid_Area  Air_Qual  Age  Dist1  Dist2  Dist3  Dist4  \\\n",
       "0   24.0     0.00632       32.31     0.538   65   4.35   3.81   4.18   4.01   \n",
       "1   21.6     0.02731       37.07     0.469   78   4.99   4.70   5.12   5.06   \n",
       "2   34.7     0.02729       37.07     0.469   61   5.03   4.86   5.01   4.97   \n",
       "3   33.4     0.03237       32.18     0.458   45   6.21   5.93   6.16   5.96   \n",
       "4   36.2     0.06905       32.18     0.458   54   6.16   5.86   6.37   5.86   \n",
       "\n",
       "   Teachers  Poor_Prop  N_Hos_Beds  N_Hot_Rooms  Rainfall     Parks  \n",
       "0        24       4.98       5.480           11        23  0.049347  \n",
       "1        22       9.14       7.332           12        42  0.046146  \n",
       "2        22       4.03       7.394          101        38  0.045764  \n",
       "3        21       2.94       9.268           11        45  0.047151  \n",
       "4        21       5.33       8.824           11        55  0.039474  "
      ]
     },
     "execution_count": 99,
     "metadata": {},
     "output_type": "execute_result"
    }
   ],
   "source": [
    "df_num.head()"
   ]
  },
  {
   "cell_type": "markdown",
   "id": "8d9b54e6",
   "metadata": {},
   "source": [
    "### Resid_Area"
   ]
  },
  {
   "cell_type": "code",
   "execution_count": 100,
   "id": "c2877799",
   "metadata": {},
   "outputs": [
    {
     "data": {
      "text/plain": [
       "30.46"
      ]
     },
     "execution_count": 100,
     "metadata": {},
     "output_type": "execute_result"
    }
   ],
   "source": [
    "# Find the minimum value\n",
    "df_num.Resid_Area.min()"
   ]
  },
  {
   "cell_type": "code",
   "execution_count": 101,
   "id": "439cc6f8",
   "metadata": {},
   "outputs": [
    {
     "data": {
      "text/plain": [
       "57.74"
      ]
     },
     "execution_count": 101,
     "metadata": {},
     "output_type": "execute_result"
    }
   ],
   "source": [
    "# Find the maximum value\n",
    "df_num.Resid_Area.max()"
   ]
  },
  {
   "cell_type": "code",
   "execution_count": 102,
   "id": "b8bd0684",
   "metadata": {},
   "outputs": [
    {
     "data": {
      "text/plain": [
       "41.126526104417515"
      ]
     },
     "execution_count": 102,
     "metadata": {},
     "output_type": "execute_result"
    }
   ],
   "source": [
    "# Find the Average value\n",
    "df_num.Resid_Area.mean()"
   ]
  },
  {
   "cell_type": "code",
   "execution_count": 103,
   "id": "719e52e2",
   "metadata": {},
   "outputs": [
    {
     "data": {
      "image/png": "[encoded data removed]",
      "text/plain": [
       "<Figure size 432x288 with 1 Axes>"
      ]
     },
     "metadata": {
      "needs_background": "light"
     },
     "output_type": "display_data"
    }
   ],
   "source": [
    "df_num.Resid_Area.plot(kind='kde')\n",
    "plt.grid()\n",
    "plt.title('kde of Resid_Area')\n",
    "plt.show()"
   ]
  },
  {
   "cell_type": "markdown",
   "id": "d605e356",
   "metadata": {},
   "source": [
    "**Interprection**\n",
    " - We have minimum value of Resid_Area is 30.46\n",
    " - We have maximum value of Resid_Area is 57.74\n",
    " - We have Average value of Resid_Area is 41.12\n",
    " - The value lies between 27 and 60"
   ]
  },
  {
   "cell_type": "markdown",
   "id": "570a7245",
   "metadata": {},
   "source": [
    "### Air_Qual"
   ]
  },
  {
   "cell_type": "code",
   "execution_count": 106,
   "id": "cb2d413b",
   "metadata": {},
   "outputs": [
    {
     "data": {
      "text/plain": [
       "0.385"
      ]
     },
     "execution_count": 106,
     "metadata": {},
     "output_type": "execute_result"
    }
   ],
   "source": [
    "# Find the minimum value\n",
    "df_num.Air_Qual.min()"
   ]
  },
  {
   "cell_type": "code",
   "execution_count": 107,
   "id": "fc4c139c",
   "metadata": {},
   "outputs": [
    {
     "data": {
      "text/plain": [
       "0.871"
      ]
     },
     "execution_count": 107,
     "metadata": {},
     "output_type": "execute_result"
    }
   ],
   "source": [
    "# Find the maximum value\n",
    "df_num.Air_Qual.max()"
   ]
  },
  {
   "cell_type": "code",
   "execution_count": 108,
   "id": "8f2f0901",
   "metadata": {},
   "outputs": [
    {
     "data": {
      "text/plain": [
       "0.5538688755020079"
      ]
     },
     "execution_count": 108,
     "metadata": {},
     "output_type": "execute_result"
    }
   ],
   "source": [
    "# Find the Average value\n",
    "df_num.Air_Qual.mean()"
   ]
  },
  {
   "cell_type": "code",
   "execution_count": 109,
   "id": "82d10cb5",
   "metadata": {},
   "outputs": [
    {
     "data": {
      "image/png": "[encoded data removed]",
      "text/plain": [
       "<Figure size 432x288 with 1 Axes>"
      ]
     },
     "metadata": {
      "needs_background": "light"
     },
     "output_type": "display_data"
    }
   ],
   "source": [
    "df_num.Air_Qual.plot(kind='kde')\n",
    "plt.grid()\n",
    "plt.title('kde of Air_Qual')\n",
    "plt.show()"
   ]
  },
  {
   "cell_type": "markdown",
   "id": "342e984e",
   "metadata": {},
   "source": [
    "**Interprection**\n",
    " - We have minimum value of Air_Qual is 0.385\n",
    " - We have maximum value of Air_Qual is 0.871\n",
    " - We have Average value of Air_Qual is 0.553\n",
    " - The value lies between 0.3 and 0.9"
   ]
  },
  {
   "cell_type": "code",
   "execution_count": 110,
   "id": "ab87b6f2",
   "metadata": {},
   "outputs": [
    {
     "data": {
      "text/html": [
       "<div>\n",
       "<style scoped>\n",
       "    .dataframe tbody tr th:only-of-type {\n",
       "        vertical-align: middle;\n",
       "    }\n",
       "\n",
       "    .dataframe tbody tr th {\n",
       "        vertical-align: top;\n",
       "    }\n",
       "\n",
       "    .dataframe thead th {\n",
       "        text-align: right;\n",
       "    }\n",
       "</style>\n",
       "<table border=\"1\" class=\"dataframe\">\n",
       "  <thead>\n",
       "    <tr style=\"text-align: right;\">\n",
       "      <th></th>\n",
       "      <th>Price</th>\n",
       "      <th>Crime_Rate</th>\n",
       "      <th>Resid_Area</th>\n",
       "      <th>Air_Qual</th>\n",
       "      <th>Age</th>\n",
       "      <th>Dist1</th>\n",
       "      <th>Dist2</th>\n",
       "      <th>Dist3</th>\n",
       "      <th>Dist4</th>\n",
       "      <th>Teachers</th>\n",
       "      <th>Poor_Prop</th>\n",
       "      <th>N_Hos_Beds</th>\n",
       "      <th>N_Hot_Rooms</th>\n",
       "      <th>Rainfall</th>\n",
       "      <th>Parks</th>\n",
       "    </tr>\n",
       "  </thead>\n",
       "  <tbody>\n",
       "    <tr>\n",
       "      <th>0</th>\n",
       "      <td>24.0</td>\n",
       "      <td>0.00632</td>\n",
       "      <td>32.31</td>\n",
       "      <td>0.538</td>\n",
       "      <td>65</td>\n",
       "      <td>4.35</td>\n",
       "      <td>3.81</td>\n",
       "      <td>4.18</td>\n",
       "      <td>4.01</td>\n",
       "      <td>24</td>\n",
       "      <td>4.98</td>\n",
       "      <td>5.480</td>\n",
       "      <td>11</td>\n",
       "      <td>23</td>\n",
       "      <td>0.049347</td>\n",
       "    </tr>\n",
       "    <tr>\n",
       "      <th>1</th>\n",
       "      <td>21.6</td>\n",
       "      <td>0.02731</td>\n",
       "      <td>37.07</td>\n",
       "      <td>0.469</td>\n",
       "      <td>78</td>\n",
       "      <td>4.99</td>\n",
       "      <td>4.70</td>\n",
       "      <td>5.12</td>\n",
       "      <td>5.06</td>\n",
       "      <td>22</td>\n",
       "      <td>9.14</td>\n",
       "      <td>7.332</td>\n",
       "      <td>12</td>\n",
       "      <td>42</td>\n",
       "      <td>0.046146</td>\n",
       "    </tr>\n",
       "    <tr>\n",
       "      <th>2</th>\n",
       "      <td>34.7</td>\n",
       "      <td>0.02729</td>\n",
       "      <td>37.07</td>\n",
       "      <td>0.469</td>\n",
       "      <td>61</td>\n",
       "      <td>5.03</td>\n",
       "      <td>4.86</td>\n",
       "      <td>5.01</td>\n",
       "      <td>4.97</td>\n",
       "      <td>22</td>\n",
       "      <td>4.03</td>\n",
       "      <td>7.394</td>\n",
       "      <td>101</td>\n",
       "      <td>38</td>\n",
       "      <td>0.045764</td>\n",
       "    </tr>\n",
       "    <tr>\n",
       "      <th>3</th>\n",
       "      <td>33.4</td>\n",
       "      <td>0.03237</td>\n",
       "      <td>32.18</td>\n",
       "      <td>0.458</td>\n",
       "      <td>45</td>\n",
       "      <td>6.21</td>\n",
       "      <td>5.93</td>\n",
       "      <td>6.16</td>\n",
       "      <td>5.96</td>\n",
       "      <td>21</td>\n",
       "      <td>2.94</td>\n",
       "      <td>9.268</td>\n",
       "      <td>11</td>\n",
       "      <td>45</td>\n",
       "      <td>0.047151</td>\n",
       "    </tr>\n",
       "    <tr>\n",
       "      <th>4</th>\n",
       "      <td>36.2</td>\n",
       "      <td>0.06905</td>\n",
       "      <td>32.18</td>\n",
       "      <td>0.458</td>\n",
       "      <td>54</td>\n",
       "      <td>6.16</td>\n",
       "      <td>5.86</td>\n",
       "      <td>6.37</td>\n",
       "      <td>5.86</td>\n",
       "      <td>21</td>\n",
       "      <td>5.33</td>\n",
       "      <td>8.824</td>\n",
       "      <td>11</td>\n",
       "      <td>55</td>\n",
       "      <td>0.039474</td>\n",
       "    </tr>\n",
       "  </tbody>\n",
       "</table>\n",
       "</div>"
      ],
      "text/plain": [
       "   Price  Crime_Rate  Resid_Area  Air_Qual  Age  Dist1  Dist2  Dist3  Dist4  \\\n",
       "0   24.0     0.00632       32.31     0.538   65   4.35   3.81   4.18   4.01   \n",
       "1   21.6     0.02731       37.07     0.469   78   4.99   4.70   5.12   5.06   \n",
       "2   34.7     0.02729       37.07     0.469   61   5.03   4.86   5.01   4.97   \n",
       "3   33.4     0.03237       32.18     0.458   45   6.21   5.93   6.16   5.96   \n",
       "4   36.2     0.06905       32.18     0.458   54   6.16   5.86   6.37   5.86   \n",
       "\n",
       "   Teachers  Poor_Prop  N_Hos_Beds  N_Hot_Rooms  Rainfall     Parks  \n",
       "0        24       4.98       5.480           11        23  0.049347  \n",
       "1        22       9.14       7.332           12        42  0.046146  \n",
       "2        22       4.03       7.394          101        38  0.045764  \n",
       "3        21       2.94       9.268           11        45  0.047151  \n",
       "4        21       5.33       8.824           11        55  0.039474  "
      ]
     },
     "execution_count": 110,
     "metadata": {},
     "output_type": "execute_result"
    }
   ],
   "source": [
    "df_num.head()"
   ]
  },
  {
   "cell_type": "markdown",
   "id": "7f7201fc",
   "metadata": {},
   "source": [
    "### Age"
   ]
  },
  {
   "cell_type": "code",
   "execution_count": 111,
   "id": "a1198a7c",
   "metadata": {},
   "outputs": [
    {
     "data": {
      "text/plain": [
       "2"
      ]
     },
     "execution_count": 111,
     "metadata": {},
     "output_type": "execute_result"
    }
   ],
   "source": [
    "# Find the minimum value\n",
    "df_num.Age.min()"
   ]
  },
  {
   "cell_type": "code",
   "execution_count": 113,
   "id": "b020edb6",
   "metadata": {},
   "outputs": [
    {
     "data": {
      "text/plain": [
       "100"
      ]
     },
     "execution_count": 113,
     "metadata": {},
     "output_type": "execute_result"
    }
   ],
   "source": [
    "# Find the maximum value\n",
    "df_num.Age.max()"
   ]
  },
  {
   "cell_type": "code",
   "execution_count": 114,
   "id": "dcca9a98",
   "metadata": {},
   "outputs": [
    {
     "data": {
      "text/plain": [
       "68.04819277108433"
      ]
     },
     "execution_count": 114,
     "metadata": {},
     "output_type": "execute_result"
    }
   ],
   "source": [
    "# Find the Average value\n",
    "df_num.Age.mean()"
   ]
  },
  {
   "cell_type": "code",
   "execution_count": 115,
   "id": "b7b70042",
   "metadata": {},
   "outputs": [
    {
     "data": {
      "image/png": "[encoded data removed]",
      "text/plain": [
       "<Figure size 432x288 with 1 Axes>"
      ]
     },
     "metadata": {
      "needs_background": "light"
     },
     "output_type": "display_data"
    }
   ],
   "source": [
    "df_num.Age.plot(kind='kde')\n",
    "plt.grid()\n",
    "plt.title('kde of Age')\n",
    "plt.show()"
   ]
  },
  {
   "cell_type": "markdown",
   "id": "6431be14",
   "metadata": {},
   "source": [
    "**Interprection**\n",
    " - We have minimum value of Age is 2\n",
    " - We have maximum value of Age is 100\n",
    " - We have Average value of Age is 68.04\n",
    " - The value lies between 0 and 124"
   ]
  },
  {
   "cell_type": "code",
   "execution_count": 116,
   "id": "d6d62c10",
   "metadata": {},
   "outputs": [
    {
     "data": {
      "text/html": [
       "<div>\n",
       "<style scoped>\n",
       "    .dataframe tbody tr th:only-of-type {\n",
       "        vertical-align: middle;\n",
       "    }\n",
       "\n",
       "    .dataframe tbody tr th {\n",
       "        vertical-align: top;\n",
       "    }\n",
       "\n",
       "    .dataframe thead th {\n",
       "        text-align: right;\n",
       "    }\n",
       "</style>\n",
       "<table border=\"1\" class=\"dataframe\">\n",
       "  <thead>\n",
       "    <tr style=\"text-align: right;\">\n",
       "      <th></th>\n",
       "      <th>Price</th>\n",
       "      <th>Crime_Rate</th>\n",
       "      <th>Resid_Area</th>\n",
       "      <th>Air_Qual</th>\n",
       "      <th>Age</th>\n",
       "      <th>Dist1</th>\n",
       "      <th>Dist2</th>\n",
       "      <th>Dist3</th>\n",
       "      <th>Dist4</th>\n",
       "      <th>Teachers</th>\n",
       "      <th>Poor_Prop</th>\n",
       "      <th>N_Hos_Beds</th>\n",
       "      <th>N_Hot_Rooms</th>\n",
       "      <th>Rainfall</th>\n",
       "      <th>Parks</th>\n",
       "    </tr>\n",
       "  </thead>\n",
       "  <tbody>\n",
       "    <tr>\n",
       "      <th>0</th>\n",
       "      <td>24.0</td>\n",
       "      <td>0.00632</td>\n",
       "      <td>32.31</td>\n",
       "      <td>0.538</td>\n",
       "      <td>65</td>\n",
       "      <td>4.35</td>\n",
       "      <td>3.81</td>\n",
       "      <td>4.18</td>\n",
       "      <td>4.01</td>\n",
       "      <td>24</td>\n",
       "      <td>4.98</td>\n",
       "      <td>5.480</td>\n",
       "      <td>11</td>\n",
       "      <td>23</td>\n",
       "      <td>0.049347</td>\n",
       "    </tr>\n",
       "    <tr>\n",
       "      <th>1</th>\n",
       "      <td>21.6</td>\n",
       "      <td>0.02731</td>\n",
       "      <td>37.07</td>\n",
       "      <td>0.469</td>\n",
       "      <td>78</td>\n",
       "      <td>4.99</td>\n",
       "      <td>4.70</td>\n",
       "      <td>5.12</td>\n",
       "      <td>5.06</td>\n",
       "      <td>22</td>\n",
       "      <td>9.14</td>\n",
       "      <td>7.332</td>\n",
       "      <td>12</td>\n",
       "      <td>42</td>\n",
       "      <td>0.046146</td>\n",
       "    </tr>\n",
       "    <tr>\n",
       "      <th>2</th>\n",
       "      <td>34.7</td>\n",
       "      <td>0.02729</td>\n",
       "      <td>37.07</td>\n",
       "      <td>0.469</td>\n",
       "      <td>61</td>\n",
       "      <td>5.03</td>\n",
       "      <td>4.86</td>\n",
       "      <td>5.01</td>\n",
       "      <td>4.97</td>\n",
       "      <td>22</td>\n",
       "      <td>4.03</td>\n",
       "      <td>7.394</td>\n",
       "      <td>101</td>\n",
       "      <td>38</td>\n",
       "      <td>0.045764</td>\n",
       "    </tr>\n",
       "    <tr>\n",
       "      <th>3</th>\n",
       "      <td>33.4</td>\n",
       "      <td>0.03237</td>\n",
       "      <td>32.18</td>\n",
       "      <td>0.458</td>\n",
       "      <td>45</td>\n",
       "      <td>6.21</td>\n",
       "      <td>5.93</td>\n",
       "      <td>6.16</td>\n",
       "      <td>5.96</td>\n",
       "      <td>21</td>\n",
       "      <td>2.94</td>\n",
       "      <td>9.268</td>\n",
       "      <td>11</td>\n",
       "      <td>45</td>\n",
       "      <td>0.047151</td>\n",
       "    </tr>\n",
       "    <tr>\n",
       "      <th>4</th>\n",
       "      <td>36.2</td>\n",
       "      <td>0.06905</td>\n",
       "      <td>32.18</td>\n",
       "      <td>0.458</td>\n",
       "      <td>54</td>\n",
       "      <td>6.16</td>\n",
       "      <td>5.86</td>\n",
       "      <td>6.37</td>\n",
       "      <td>5.86</td>\n",
       "      <td>21</td>\n",
       "      <td>5.33</td>\n",
       "      <td>8.824</td>\n",
       "      <td>11</td>\n",
       "      <td>55</td>\n",
       "      <td>0.039474</td>\n",
       "    </tr>\n",
       "  </tbody>\n",
       "</table>\n",
       "</div>"
      ],
      "text/plain": [
       "   Price  Crime_Rate  Resid_Area  Air_Qual  Age  Dist1  Dist2  Dist3  Dist4  \\\n",
       "0   24.0     0.00632       32.31     0.538   65   4.35   3.81   4.18   4.01   \n",
       "1   21.6     0.02731       37.07     0.469   78   4.99   4.70   5.12   5.06   \n",
       "2   34.7     0.02729       37.07     0.469   61   5.03   4.86   5.01   4.97   \n",
       "3   33.4     0.03237       32.18     0.458   45   6.21   5.93   6.16   5.96   \n",
       "4   36.2     0.06905       32.18     0.458   54   6.16   5.86   6.37   5.86   \n",
       "\n",
       "   Teachers  Poor_Prop  N_Hos_Beds  N_Hot_Rooms  Rainfall     Parks  \n",
       "0        24       4.98       5.480           11        23  0.049347  \n",
       "1        22       9.14       7.332           12        42  0.046146  \n",
       "2        22       4.03       7.394          101        38  0.045764  \n",
       "3        21       2.94       9.268           11        45  0.047151  \n",
       "4        21       5.33       8.824           11        55  0.039474  "
      ]
     },
     "execution_count": 116,
     "metadata": {},
     "output_type": "execute_result"
    }
   ],
   "source": [
    "df_num.head()"
   ]
  },
  {
   "cell_type": "markdown",
   "id": "f49f785e",
   "metadata": {},
   "source": [
    "### Dist1"
   ]
  },
  {
   "cell_type": "code",
   "execution_count": 118,
   "id": "5d8de418",
   "metadata": {},
   "outputs": [
    {
     "data": {
      "text/plain": [
       "1.13"
      ]
     },
     "execution_count": 118,
     "metadata": {},
     "output_type": "execute_result"
    }
   ],
   "source": [
    "# Find the minimum value\n",
    "df_num.Dist1.min()"
   ]
  },
  {
   "cell_type": "code",
   "execution_count": 119,
   "id": "4c1ad673",
   "metadata": {},
   "outputs": [
    {
     "data": {
      "text/plain": [
       "12.32"
      ]
     },
     "execution_count": 119,
     "metadata": {},
     "output_type": "execute_result"
    }
   ],
   "source": [
    "# Find the maximum value\n",
    "df_num.Dist1.max()"
   ]
  },
  {
   "cell_type": "code",
   "execution_count": 120,
   "id": "620f6969",
   "metadata": {},
   "outputs": [
    {
     "data": {
      "text/plain": [
       "3.9852208835341383"
      ]
     },
     "execution_count": 120,
     "metadata": {},
     "output_type": "execute_result"
    }
   ],
   "source": [
    "# Find the Average value\n",
    "df_num.Dist1.mean()"
   ]
  },
  {
   "cell_type": "code",
   "execution_count": 121,
   "id": "7ce9a635",
   "metadata": {},
   "outputs": [
    {
     "data": {
      "image/png": "[encoded data removed]",
      "text/plain": [
       "<Figure size 432x288 with 1 Axes>"
      ]
     },
     "metadata": {
      "needs_background": "light"
     },
     "output_type": "display_data"
    }
   ],
   "source": [
    "df_num.Dist1.plot(kind='kde')\n",
    "plt.grid()\n",
    "plt.title('kde of Dist1')\n",
    "plt.show()"
   ]
  },
  {
   "cell_type": "markdown",
   "id": "07307029",
   "metadata": {},
   "source": [
    "**Interprection**\n",
    " - We have minimum value of Dist1 is 1.13\n",
    " - We have maximum value of Dist1 is 12.32\n",
    " - We have Average value of Dist1 is 3.987\n",
    " - The value lies between 1 and 11"
   ]
  },
  {
   "cell_type": "code",
   "execution_count": 122,
   "id": "66f01647",
   "metadata": {},
   "outputs": [
    {
     "data": {
      "text/html": [
       "<div>\n",
       "<style scoped>\n",
       "    .dataframe tbody tr th:only-of-type {\n",
       "        vertical-align: middle;\n",
       "    }\n",
       "\n",
       "    .dataframe tbody tr th {\n",
       "        vertical-align: top;\n",
       "    }\n",
       "\n",
       "    .dataframe thead th {\n",
       "        text-align: right;\n",
       "    }\n",
       "</style>\n",
       "<table border=\"1\" class=\"dataframe\">\n",
       "  <thead>\n",
       "    <tr style=\"text-align: right;\">\n",
       "      <th></th>\n",
       "      <th>Price</th>\n",
       "      <th>Crime_Rate</th>\n",
       "      <th>Resid_Area</th>\n",
       "      <th>Air_Qual</th>\n",
       "      <th>Age</th>\n",
       "      <th>Dist1</th>\n",
       "      <th>Dist2</th>\n",
       "      <th>Dist3</th>\n",
       "      <th>Dist4</th>\n",
       "      <th>Teachers</th>\n",
       "      <th>Poor_Prop</th>\n",
       "      <th>N_Hos_Beds</th>\n",
       "      <th>N_Hot_Rooms</th>\n",
       "      <th>Rainfall</th>\n",
       "      <th>Parks</th>\n",
       "    </tr>\n",
       "  </thead>\n",
       "  <tbody>\n",
       "    <tr>\n",
       "      <th>0</th>\n",
       "      <td>24.0</td>\n",
       "      <td>0.00632</td>\n",
       "      <td>32.31</td>\n",
       "      <td>0.538</td>\n",
       "      <td>65</td>\n",
       "      <td>4.35</td>\n",
       "      <td>3.81</td>\n",
       "      <td>4.18</td>\n",
       "      <td>4.01</td>\n",
       "      <td>24</td>\n",
       "      <td>4.98</td>\n",
       "      <td>5.480</td>\n",
       "      <td>11</td>\n",
       "      <td>23</td>\n",
       "      <td>0.049347</td>\n",
       "    </tr>\n",
       "    <tr>\n",
       "      <th>1</th>\n",
       "      <td>21.6</td>\n",
       "      <td>0.02731</td>\n",
       "      <td>37.07</td>\n",
       "      <td>0.469</td>\n",
       "      <td>78</td>\n",
       "      <td>4.99</td>\n",
       "      <td>4.70</td>\n",
       "      <td>5.12</td>\n",
       "      <td>5.06</td>\n",
       "      <td>22</td>\n",
       "      <td>9.14</td>\n",
       "      <td>7.332</td>\n",
       "      <td>12</td>\n",
       "      <td>42</td>\n",
       "      <td>0.046146</td>\n",
       "    </tr>\n",
       "    <tr>\n",
       "      <th>2</th>\n",
       "      <td>34.7</td>\n",
       "      <td>0.02729</td>\n",
       "      <td>37.07</td>\n",
       "      <td>0.469</td>\n",
       "      <td>61</td>\n",
       "      <td>5.03</td>\n",
       "      <td>4.86</td>\n",
       "      <td>5.01</td>\n",
       "      <td>4.97</td>\n",
       "      <td>22</td>\n",
       "      <td>4.03</td>\n",
       "      <td>7.394</td>\n",
       "      <td>101</td>\n",
       "      <td>38</td>\n",
       "      <td>0.045764</td>\n",
       "    </tr>\n",
       "    <tr>\n",
       "      <th>3</th>\n",
       "      <td>33.4</td>\n",
       "      <td>0.03237</td>\n",
       "      <td>32.18</td>\n",
       "      <td>0.458</td>\n",
       "      <td>45</td>\n",
       "      <td>6.21</td>\n",
       "      <td>5.93</td>\n",
       "      <td>6.16</td>\n",
       "      <td>5.96</td>\n",
       "      <td>21</td>\n",
       "      <td>2.94</td>\n",
       "      <td>9.268</td>\n",
       "      <td>11</td>\n",
       "      <td>45</td>\n",
       "      <td>0.047151</td>\n",
       "    </tr>\n",
       "    <tr>\n",
       "      <th>4</th>\n",
       "      <td>36.2</td>\n",
       "      <td>0.06905</td>\n",
       "      <td>32.18</td>\n",
       "      <td>0.458</td>\n",
       "      <td>54</td>\n",
       "      <td>6.16</td>\n",
       "      <td>5.86</td>\n",
       "      <td>6.37</td>\n",
       "      <td>5.86</td>\n",
       "      <td>21</td>\n",
       "      <td>5.33</td>\n",
       "      <td>8.824</td>\n",
       "      <td>11</td>\n",
       "      <td>55</td>\n",
       "      <td>0.039474</td>\n",
       "    </tr>\n",
       "  </tbody>\n",
       "</table>\n",
       "</div>"
      ],
      "text/plain": [
       "   Price  Crime_Rate  Resid_Area  Air_Qual  Age  Dist1  Dist2  Dist3  Dist4  \\\n",
       "0   24.0     0.00632       32.31     0.538   65   4.35   3.81   4.18   4.01   \n",
       "1   21.6     0.02731       37.07     0.469   78   4.99   4.70   5.12   5.06   \n",
       "2   34.7     0.02729       37.07     0.469   61   5.03   4.86   5.01   4.97   \n",
       "3   33.4     0.03237       32.18     0.458   45   6.21   5.93   6.16   5.96   \n",
       "4   36.2     0.06905       32.18     0.458   54   6.16   5.86   6.37   5.86   \n",
       "\n",
       "   Teachers  Poor_Prop  N_Hos_Beds  N_Hot_Rooms  Rainfall     Parks  \n",
       "0        24       4.98       5.480           11        23  0.049347  \n",
       "1        22       9.14       7.332           12        42  0.046146  \n",
       "2        22       4.03       7.394          101        38  0.045764  \n",
       "3        21       2.94       9.268           11        45  0.047151  \n",
       "4        21       5.33       8.824           11        55  0.039474  "
      ]
     },
     "execution_count": 122,
     "metadata": {},
     "output_type": "execute_result"
    }
   ],
   "source": [
    "df_num.head()"
   ]
  },
  {
   "cell_type": "markdown",
   "id": "7c60c6c8",
   "metadata": {},
   "source": [
    "### Dist2"
   ]
  },
  {
   "cell_type": "code",
   "execution_count": 124,
   "id": "d48ae7dc",
   "metadata": {},
   "outputs": [
    {
     "data": {
      "text/plain": [
       "0.92"
      ]
     },
     "execution_count": 124,
     "metadata": {},
     "output_type": "execute_result"
    }
   ],
   "source": [
    "# Find the minimum value\n",
    "df_num.Dist2.min()"
   ]
  },
  {
   "cell_type": "code",
   "execution_count": 125,
   "id": "f9c08637",
   "metadata": {},
   "outputs": [
    {
     "data": {
      "text/plain": [
       "11.93"
      ]
     },
     "execution_count": 125,
     "metadata": {},
     "output_type": "execute_result"
    }
   ],
   "source": [
    "# Find the maximum value\n",
    "df_num.Dist2.max()"
   ]
  },
  {
   "cell_type": "code",
   "execution_count": 126,
   "id": "dd9bec13",
   "metadata": {},
   "outputs": [
    {
     "data": {
      "text/plain": [
       "3.6419879518072276"
      ]
     },
     "execution_count": 126,
     "metadata": {},
     "output_type": "execute_result"
    }
   ],
   "source": [
    "# Find the Average value\n",
    "df_num.Dist2.mean()"
   ]
  },
  {
   "cell_type": "code",
   "execution_count": 127,
   "id": "7a386a16",
   "metadata": {},
   "outputs": [
    {
     "data": {
      "image/png": "[encoded data removed]",
      "text/plain": [
       "<Figure size 432x288 with 1 Axes>"
      ]
     },
     "metadata": {
      "needs_background": "light"
     },
     "output_type": "display_data"
    }
   ],
   "source": [
    "df_num.Dist2.plot(kind='kde')\n",
    "plt.grid()\n",
    "plt.title('kde of Dist2')\n",
    "plt.show()"
   ]
  },
  {
   "cell_type": "markdown",
   "id": "60042ab0",
   "metadata": {},
   "source": [
    "**Interprection**\n",
    " - We have minimum value of Dist2 is 0.92\n",
    " - We have maximum value of Dist2 is 11.93\n",
    " - We have Average value of Dist2 is 3.64\n",
    " - The value lies between 0 and 11"
   ]
  },
  {
   "cell_type": "code",
   "execution_count": 128,
   "id": "f7e287ea",
   "metadata": {},
   "outputs": [
    {
     "data": {
      "text/html": [
       "<div>\n",
       "<style scoped>\n",
       "    .dataframe tbody tr th:only-of-type {\n",
       "        vertical-align: middle;\n",
       "    }\n",
       "\n",
       "    .dataframe tbody tr th {\n",
       "        vertical-align: top;\n",
       "    }\n",
       "\n",
       "    .dataframe thead th {\n",
       "        text-align: right;\n",
       "    }\n",
       "</style>\n",
       "<table border=\"1\" class=\"dataframe\">\n",
       "  <thead>\n",
       "    <tr style=\"text-align: right;\">\n",
       "      <th></th>\n",
       "      <th>Price</th>\n",
       "      <th>Crime_Rate</th>\n",
       "      <th>Resid_Area</th>\n",
       "      <th>Air_Qual</th>\n",
       "      <th>Age</th>\n",
       "      <th>Dist1</th>\n",
       "      <th>Dist2</th>\n",
       "      <th>Dist3</th>\n",
       "      <th>Dist4</th>\n",
       "      <th>Teachers</th>\n",
       "      <th>Poor_Prop</th>\n",
       "      <th>N_Hos_Beds</th>\n",
       "      <th>N_Hot_Rooms</th>\n",
       "      <th>Rainfall</th>\n",
       "      <th>Parks</th>\n",
       "    </tr>\n",
       "  </thead>\n",
       "  <tbody>\n",
       "    <tr>\n",
       "      <th>0</th>\n",
       "      <td>24.0</td>\n",
       "      <td>0.00632</td>\n",
       "      <td>32.31</td>\n",
       "      <td>0.538</td>\n",
       "      <td>65</td>\n",
       "      <td>4.35</td>\n",
       "      <td>3.81</td>\n",
       "      <td>4.18</td>\n",
       "      <td>4.01</td>\n",
       "      <td>24</td>\n",
       "      <td>4.98</td>\n",
       "      <td>5.480</td>\n",
       "      <td>11</td>\n",
       "      <td>23</td>\n",
       "      <td>0.049347</td>\n",
       "    </tr>\n",
       "    <tr>\n",
       "      <th>1</th>\n",
       "      <td>21.6</td>\n",
       "      <td>0.02731</td>\n",
       "      <td>37.07</td>\n",
       "      <td>0.469</td>\n",
       "      <td>78</td>\n",
       "      <td>4.99</td>\n",
       "      <td>4.70</td>\n",
       "      <td>5.12</td>\n",
       "      <td>5.06</td>\n",
       "      <td>22</td>\n",
       "      <td>9.14</td>\n",
       "      <td>7.332</td>\n",
       "      <td>12</td>\n",
       "      <td>42</td>\n",
       "      <td>0.046146</td>\n",
       "    </tr>\n",
       "    <tr>\n",
       "      <th>2</th>\n",
       "      <td>34.7</td>\n",
       "      <td>0.02729</td>\n",
       "      <td>37.07</td>\n",
       "      <td>0.469</td>\n",
       "      <td>61</td>\n",
       "      <td>5.03</td>\n",
       "      <td>4.86</td>\n",
       "      <td>5.01</td>\n",
       "      <td>4.97</td>\n",
       "      <td>22</td>\n",
       "      <td>4.03</td>\n",
       "      <td>7.394</td>\n",
       "      <td>101</td>\n",
       "      <td>38</td>\n",
       "      <td>0.045764</td>\n",
       "    </tr>\n",
       "    <tr>\n",
       "      <th>3</th>\n",
       "      <td>33.4</td>\n",
       "      <td>0.03237</td>\n",
       "      <td>32.18</td>\n",
       "      <td>0.458</td>\n",
       "      <td>45</td>\n",
       "      <td>6.21</td>\n",
       "      <td>5.93</td>\n",
       "      <td>6.16</td>\n",
       "      <td>5.96</td>\n",
       "      <td>21</td>\n",
       "      <td>2.94</td>\n",
       "      <td>9.268</td>\n",
       "      <td>11</td>\n",
       "      <td>45</td>\n",
       "      <td>0.047151</td>\n",
       "    </tr>\n",
       "    <tr>\n",
       "      <th>4</th>\n",
       "      <td>36.2</td>\n",
       "      <td>0.06905</td>\n",
       "      <td>32.18</td>\n",
       "      <td>0.458</td>\n",
       "      <td>54</td>\n",
       "      <td>6.16</td>\n",
       "      <td>5.86</td>\n",
       "      <td>6.37</td>\n",
       "      <td>5.86</td>\n",
       "      <td>21</td>\n",
       "      <td>5.33</td>\n",
       "      <td>8.824</td>\n",
       "      <td>11</td>\n",
       "      <td>55</td>\n",
       "      <td>0.039474</td>\n",
       "    </tr>\n",
       "  </tbody>\n",
       "</table>\n",
       "</div>"
      ],
      "text/plain": [
       "   Price  Crime_Rate  Resid_Area  Air_Qual  Age  Dist1  Dist2  Dist3  Dist4  \\\n",
       "0   24.0     0.00632       32.31     0.538   65   4.35   3.81   4.18   4.01   \n",
       "1   21.6     0.02731       37.07     0.469   78   4.99   4.70   5.12   5.06   \n",
       "2   34.7     0.02729       37.07     0.469   61   5.03   4.86   5.01   4.97   \n",
       "3   33.4     0.03237       32.18     0.458   45   6.21   5.93   6.16   5.96   \n",
       "4   36.2     0.06905       32.18     0.458   54   6.16   5.86   6.37   5.86   \n",
       "\n",
       "   Teachers  Poor_Prop  N_Hos_Beds  N_Hot_Rooms  Rainfall     Parks  \n",
       "0        24       4.98       5.480           11        23  0.049347  \n",
       "1        22       9.14       7.332           12        42  0.046146  \n",
       "2        22       4.03       7.394          101        38  0.045764  \n",
       "3        21       2.94       9.268           11        45  0.047151  \n",
       "4        21       5.33       8.824           11        55  0.039474  "
      ]
     },
     "execution_count": 128,
     "metadata": {},
     "output_type": "execute_result"
    }
   ],
   "source": [
    "df_num.head()"
   ]
  },
  {
   "cell_type": "code",
   "execution_count": 129,
   "id": "d48c061d",
   "metadata": {},
   "outputs": [
    {
     "data": {
      "text/plain": [
       "1.15"
      ]
     },
     "execution_count": 129,
     "metadata": {},
     "output_type": "execute_result"
    }
   ],
   "source": [
    "# Find the minimum value\n",
    "df_num.Dist3.min()"
   ]
  },
  {
   "cell_type": "code",
   "execution_count": 130,
   "id": "4f6b6167",
   "metadata": {},
   "outputs": [
    {
     "data": {
      "text/plain": [
       "12.32"
      ]
     },
     "execution_count": 130,
     "metadata": {},
     "output_type": "execute_result"
    }
   ],
   "source": [
    "# Find the maximum value\n",
    "df_num.Dist3.max()"
   ]
  },
  {
   "cell_type": "code",
   "execution_count": 131,
   "id": "941835da",
   "metadata": {},
   "outputs": [
    {
     "data": {
      "text/plain": [
       "3.973393574297187"
      ]
     },
     "execution_count": 131,
     "metadata": {},
     "output_type": "execute_result"
    }
   ],
   "source": [
    "# Find the Average value\n",
    "df_num.Dist3.mean()"
   ]
  },
  {
   "cell_type": "code",
   "execution_count": 132,
   "id": "647922b6",
   "metadata": {},
   "outputs": [
    {
     "data": {
      "image/png": "[encoded data removed]",
      "text/plain": [
       "<Figure size 432x288 with 1 Axes>"
      ]
     },
     "metadata": {
      "needs_background": "light"
     },
     "output_type": "display_data"
    }
   ],
   "source": [
    "df_num.Dist3.plot(kind='kde')\n",
    "plt.grid()\n",
    "plt.title('kde of Dist3')\n",
    "plt.show()"
   ]
  },
  {
   "cell_type": "markdown",
   "id": "7f9f1e30",
   "metadata": {},
   "source": [
    "**Interprection**\n",
    " - We have minimum value of Dist3 is 1.15\n",
    " - We have maximum value of Dist3 is 12.32\n",
    " - We have Average value of Dist3 is 3.973\n",
    " - The value lies between 0 and 11"
   ]
  },
  {
   "cell_type": "code",
   "execution_count": 133,
   "id": "89262fc9",
   "metadata": {},
   "outputs": [
    {
     "data": {
      "text/html": [
       "<div>\n",
       "<style scoped>\n",
       "    .dataframe tbody tr th:only-of-type {\n",
       "        vertical-align: middle;\n",
       "    }\n",
       "\n",
       "    .dataframe tbody tr th {\n",
       "        vertical-align: top;\n",
       "    }\n",
       "\n",
       "    .dataframe thead th {\n",
       "        text-align: right;\n",
       "    }\n",
       "</style>\n",
       "<table border=\"1\" class=\"dataframe\">\n",
       "  <thead>\n",
       "    <tr style=\"text-align: right;\">\n",
       "      <th></th>\n",
       "      <th>Price</th>\n",
       "      <th>Crime_Rate</th>\n",
       "      <th>Resid_Area</th>\n",
       "      <th>Air_Qual</th>\n",
       "      <th>Age</th>\n",
       "      <th>Dist1</th>\n",
       "      <th>Dist2</th>\n",
       "      <th>Dist3</th>\n",
       "      <th>Dist4</th>\n",
       "      <th>Teachers</th>\n",
       "      <th>Poor_Prop</th>\n",
       "      <th>N_Hos_Beds</th>\n",
       "      <th>N_Hot_Rooms</th>\n",
       "      <th>Rainfall</th>\n",
       "      <th>Parks</th>\n",
       "    </tr>\n",
       "  </thead>\n",
       "  <tbody>\n",
       "    <tr>\n",
       "      <th>0</th>\n",
       "      <td>24.0</td>\n",
       "      <td>0.00632</td>\n",
       "      <td>32.31</td>\n",
       "      <td>0.538</td>\n",
       "      <td>65</td>\n",
       "      <td>4.35</td>\n",
       "      <td>3.81</td>\n",
       "      <td>4.18</td>\n",
       "      <td>4.01</td>\n",
       "      <td>24</td>\n",
       "      <td>4.98</td>\n",
       "      <td>5.480</td>\n",
       "      <td>11</td>\n",
       "      <td>23</td>\n",
       "      <td>0.049347</td>\n",
       "    </tr>\n",
       "    <tr>\n",
       "      <th>1</th>\n",
       "      <td>21.6</td>\n",
       "      <td>0.02731</td>\n",
       "      <td>37.07</td>\n",
       "      <td>0.469</td>\n",
       "      <td>78</td>\n",
       "      <td>4.99</td>\n",
       "      <td>4.70</td>\n",
       "      <td>5.12</td>\n",
       "      <td>5.06</td>\n",
       "      <td>22</td>\n",
       "      <td>9.14</td>\n",
       "      <td>7.332</td>\n",
       "      <td>12</td>\n",
       "      <td>42</td>\n",
       "      <td>0.046146</td>\n",
       "    </tr>\n",
       "    <tr>\n",
       "      <th>2</th>\n",
       "      <td>34.7</td>\n",
       "      <td>0.02729</td>\n",
       "      <td>37.07</td>\n",
       "      <td>0.469</td>\n",
       "      <td>61</td>\n",
       "      <td>5.03</td>\n",
       "      <td>4.86</td>\n",
       "      <td>5.01</td>\n",
       "      <td>4.97</td>\n",
       "      <td>22</td>\n",
       "      <td>4.03</td>\n",
       "      <td>7.394</td>\n",
       "      <td>101</td>\n",
       "      <td>38</td>\n",
       "      <td>0.045764</td>\n",
       "    </tr>\n",
       "    <tr>\n",
       "      <th>3</th>\n",
       "      <td>33.4</td>\n",
       "      <td>0.03237</td>\n",
       "      <td>32.18</td>\n",
       "      <td>0.458</td>\n",
       "      <td>45</td>\n",
       "      <td>6.21</td>\n",
       "      <td>5.93</td>\n",
       "      <td>6.16</td>\n",
       "      <td>5.96</td>\n",
       "      <td>21</td>\n",
       "      <td>2.94</td>\n",
       "      <td>9.268</td>\n",
       "      <td>11</td>\n",
       "      <td>45</td>\n",
       "      <td>0.047151</td>\n",
       "    </tr>\n",
       "    <tr>\n",
       "      <th>4</th>\n",
       "      <td>36.2</td>\n",
       "      <td>0.06905</td>\n",
       "      <td>32.18</td>\n",
       "      <td>0.458</td>\n",
       "      <td>54</td>\n",
       "      <td>6.16</td>\n",
       "      <td>5.86</td>\n",
       "      <td>6.37</td>\n",
       "      <td>5.86</td>\n",
       "      <td>21</td>\n",
       "      <td>5.33</td>\n",
       "      <td>8.824</td>\n",
       "      <td>11</td>\n",
       "      <td>55</td>\n",
       "      <td>0.039474</td>\n",
       "    </tr>\n",
       "  </tbody>\n",
       "</table>\n",
       "</div>"
      ],
      "text/plain": [
       "   Price  Crime_Rate  Resid_Area  Air_Qual  Age  Dist1  Dist2  Dist3  Dist4  \\\n",
       "0   24.0     0.00632       32.31     0.538   65   4.35   3.81   4.18   4.01   \n",
       "1   21.6     0.02731       37.07     0.469   78   4.99   4.70   5.12   5.06   \n",
       "2   34.7     0.02729       37.07     0.469   61   5.03   4.86   5.01   4.97   \n",
       "3   33.4     0.03237       32.18     0.458   45   6.21   5.93   6.16   5.96   \n",
       "4   36.2     0.06905       32.18     0.458   54   6.16   5.86   6.37   5.86   \n",
       "\n",
       "   Teachers  Poor_Prop  N_Hos_Beds  N_Hot_Rooms  Rainfall     Parks  \n",
       "0        24       4.98       5.480           11        23  0.049347  \n",
       "1        22       9.14       7.332           12        42  0.046146  \n",
       "2        22       4.03       7.394          101        38  0.045764  \n",
       "3        21       2.94       9.268           11        45  0.047151  \n",
       "4        21       5.33       8.824           11        55  0.039474  "
      ]
     },
     "execution_count": 133,
     "metadata": {},
     "output_type": "execute_result"
    }
   ],
   "source": [
    "df_num.head()"
   ]
  },
  {
   "cell_type": "code",
   "execution_count": 134,
   "id": "f229226c",
   "metadata": {},
   "outputs": [
    {
     "data": {
      "text/plain": [
       "0.73"
      ]
     },
     "execution_count": 134,
     "metadata": {},
     "output_type": "execute_result"
    }
   ],
   "source": [
    "# Find the minimum value\n",
    "df_num.Dist4.min()"
   ]
  },
  {
   "cell_type": "code",
   "execution_count": 135,
   "id": "8c086954",
   "metadata": {},
   "outputs": [
    {
     "data": {
      "text/plain": [
       "11.94"
      ]
     },
     "execution_count": 135,
     "metadata": {},
     "output_type": "execute_result"
    }
   ],
   "source": [
    "# Find the maximum value\n",
    "df_num.Dist4.max()"
   ]
  },
  {
   "cell_type": "code",
   "execution_count": 136,
   "id": "6a28d050",
   "metadata": {},
   "outputs": [
    {
     "data": {
      "text/plain": [
       "3.630461847389556"
      ]
     },
     "execution_count": 136,
     "metadata": {},
     "output_type": "execute_result"
    }
   ],
   "source": [
    "# Find the Average value\n",
    "df_num.Dist4.mean()"
   ]
  },
  {
   "cell_type": "code",
   "execution_count": 137,
   "id": "1e8562bb",
   "metadata": {},
   "outputs": [
    {
     "data": {
      "image/png": "[encoded data removed]",
      "text/plain": [
       "<Figure size 432x288 with 1 Axes>"
      ]
     },
     "metadata": {
      "needs_background": "light"
     },
     "output_type": "display_data"
    }
   ],
   "source": [
    "df_num.Dist4.plot(kind='kde')\n",
    "plt.grid()\n",
    "plt.title('kde of Dist4')\n",
    "plt.show()"
   ]
  },
  {
   "cell_type": "markdown",
   "id": "126dfe3d",
   "metadata": {},
   "source": [
    "**Interprection**\n",
    " - We have minimum value of Dist4 is 0.73\n",
    " - We have maximum value of Dist4 is 11.94\n",
    " - We have Average value of Dist4 is 3.63\n",
    " - The value lies between 0 and 11"
   ]
  },
  {
   "cell_type": "code",
   "execution_count": 139,
   "id": "3b45d5cd",
   "metadata": {},
   "outputs": [
    {
     "data": {
      "text/html": [
       "<div>\n",
       "<style scoped>\n",
       "    .dataframe tbody tr th:only-of-type {\n",
       "        vertical-align: middle;\n",
       "    }\n",
       "\n",
       "    .dataframe tbody tr th {\n",
       "        vertical-align: top;\n",
       "    }\n",
       "\n",
       "    .dataframe thead th {\n",
       "        text-align: right;\n",
       "    }\n",
       "</style>\n",
       "<table border=\"1\" class=\"dataframe\">\n",
       "  <thead>\n",
       "    <tr style=\"text-align: right;\">\n",
       "      <th></th>\n",
       "      <th>Price</th>\n",
       "      <th>Crime_Rate</th>\n",
       "      <th>Resid_Area</th>\n",
       "      <th>Air_Qual</th>\n",
       "      <th>Age</th>\n",
       "      <th>Dist1</th>\n",
       "      <th>Dist2</th>\n",
       "      <th>Dist3</th>\n",
       "      <th>Dist4</th>\n",
       "      <th>Teachers</th>\n",
       "      <th>Poor_Prop</th>\n",
       "      <th>N_Hos_Beds</th>\n",
       "      <th>N_Hot_Rooms</th>\n",
       "      <th>Rainfall</th>\n",
       "      <th>Parks</th>\n",
       "    </tr>\n",
       "  </thead>\n",
       "  <tbody>\n",
       "    <tr>\n",
       "      <th>0</th>\n",
       "      <td>24.0</td>\n",
       "      <td>0.00632</td>\n",
       "      <td>32.31</td>\n",
       "      <td>0.538</td>\n",
       "      <td>65</td>\n",
       "      <td>4.35</td>\n",
       "      <td>3.81</td>\n",
       "      <td>4.18</td>\n",
       "      <td>4.01</td>\n",
       "      <td>24</td>\n",
       "      <td>4.98</td>\n",
       "      <td>5.480</td>\n",
       "      <td>11</td>\n",
       "      <td>23</td>\n",
       "      <td>0.049347</td>\n",
       "    </tr>\n",
       "    <tr>\n",
       "      <th>1</th>\n",
       "      <td>21.6</td>\n",
       "      <td>0.02731</td>\n",
       "      <td>37.07</td>\n",
       "      <td>0.469</td>\n",
       "      <td>78</td>\n",
       "      <td>4.99</td>\n",
       "      <td>4.70</td>\n",
       "      <td>5.12</td>\n",
       "      <td>5.06</td>\n",
       "      <td>22</td>\n",
       "      <td>9.14</td>\n",
       "      <td>7.332</td>\n",
       "      <td>12</td>\n",
       "      <td>42</td>\n",
       "      <td>0.046146</td>\n",
       "    </tr>\n",
       "    <tr>\n",
       "      <th>2</th>\n",
       "      <td>34.7</td>\n",
       "      <td>0.02729</td>\n",
       "      <td>37.07</td>\n",
       "      <td>0.469</td>\n",
       "      <td>61</td>\n",
       "      <td>5.03</td>\n",
       "      <td>4.86</td>\n",
       "      <td>5.01</td>\n",
       "      <td>4.97</td>\n",
       "      <td>22</td>\n",
       "      <td>4.03</td>\n",
       "      <td>7.394</td>\n",
       "      <td>101</td>\n",
       "      <td>38</td>\n",
       "      <td>0.045764</td>\n",
       "    </tr>\n",
       "    <tr>\n",
       "      <th>3</th>\n",
       "      <td>33.4</td>\n",
       "      <td>0.03237</td>\n",
       "      <td>32.18</td>\n",
       "      <td>0.458</td>\n",
       "      <td>45</td>\n",
       "      <td>6.21</td>\n",
       "      <td>5.93</td>\n",
       "      <td>6.16</td>\n",
       "      <td>5.96</td>\n",
       "      <td>21</td>\n",
       "      <td>2.94</td>\n",
       "      <td>9.268</td>\n",
       "      <td>11</td>\n",
       "      <td>45</td>\n",
       "      <td>0.047151</td>\n",
       "    </tr>\n",
       "    <tr>\n",
       "      <th>4</th>\n",
       "      <td>36.2</td>\n",
       "      <td>0.06905</td>\n",
       "      <td>32.18</td>\n",
       "      <td>0.458</td>\n",
       "      <td>54</td>\n",
       "      <td>6.16</td>\n",
       "      <td>5.86</td>\n",
       "      <td>6.37</td>\n",
       "      <td>5.86</td>\n",
       "      <td>21</td>\n",
       "      <td>5.33</td>\n",
       "      <td>8.824</td>\n",
       "      <td>11</td>\n",
       "      <td>55</td>\n",
       "      <td>0.039474</td>\n",
       "    </tr>\n",
       "  </tbody>\n",
       "</table>\n",
       "</div>"
      ],
      "text/plain": [
       "   Price  Crime_Rate  Resid_Area  Air_Qual  Age  Dist1  Dist2  Dist3  Dist4  \\\n",
       "0   24.0     0.00632       32.31     0.538   65   4.35   3.81   4.18   4.01   \n",
       "1   21.6     0.02731       37.07     0.469   78   4.99   4.70   5.12   5.06   \n",
       "2   34.7     0.02729       37.07     0.469   61   5.03   4.86   5.01   4.97   \n",
       "3   33.4     0.03237       32.18     0.458   45   6.21   5.93   6.16   5.96   \n",
       "4   36.2     0.06905       32.18     0.458   54   6.16   5.86   6.37   5.86   \n",
       "\n",
       "   Teachers  Poor_Prop  N_Hos_Beds  N_Hot_Rooms  Rainfall     Parks  \n",
       "0        24       4.98       5.480           11        23  0.049347  \n",
       "1        22       9.14       7.332           12        42  0.046146  \n",
       "2        22       4.03       7.394          101        38  0.045764  \n",
       "3        21       2.94       9.268           11        45  0.047151  \n",
       "4        21       5.33       8.824           11        55  0.039474  "
      ]
     },
     "execution_count": 139,
     "metadata": {},
     "output_type": "execute_result"
    }
   ],
   "source": [
    "df_num.head()"
   ]
  },
  {
   "cell_type": "markdown",
   "id": "2ab57e4e",
   "metadata": {},
   "source": [
    "### Teachers"
   ]
  },
  {
   "cell_type": "code",
   "execution_count": 142,
   "id": "08dc5ec5",
   "metadata": {},
   "outputs": [
    {
     "data": {
      "text/plain": [
       "18"
      ]
     },
     "execution_count": 142,
     "metadata": {},
     "output_type": "execute_result"
    }
   ],
   "source": [
    "# Find the minimum value\n",
    "df_num.Teachers.min()"
   ]
  },
  {
   "cell_type": "code",
   "execution_count": 143,
   "id": "fb87947b",
   "metadata": {},
   "outputs": [
    {
     "data": {
      "text/plain": [
       "27"
      ]
     },
     "execution_count": 143,
     "metadata": {},
     "output_type": "execute_result"
    }
   ],
   "source": [
    "# Find the maximum value\n",
    "df_num.Teachers.max()"
   ]
  },
  {
   "cell_type": "code",
   "execution_count": 144,
   "id": "54ecd4a1",
   "metadata": {},
   "outputs": [
    {
     "data": {
      "text/plain": [
       "21.03012048192771"
      ]
     },
     "execution_count": 144,
     "metadata": {},
     "output_type": "execute_result"
    }
   ],
   "source": [
    "# Find the Average value\n",
    "df_num.Teachers.mean()"
   ]
  },
  {
   "cell_type": "code",
   "execution_count": 145,
   "id": "fd1262f4",
   "metadata": {},
   "outputs": [
    {
     "data": {
      "image/png": "[encoded data removed]",
      "text/plain": [
       "<Figure size 432x288 with 1 Axes>"
      ]
     },
     "metadata": {
      "needs_background": "light"
     },
     "output_type": "display_data"
    }
   ],
   "source": [
    "df_num.Teachers.plot(kind='kde')\n",
    "plt.grid()\n",
    "plt.title('kde of Teachers')\n",
    "plt.show()"
   ]
  },
  {
   "cell_type": "markdown",
   "id": "b21f7845",
   "metadata": {},
   "source": [
    "**Interprection**\n",
    " - We have minimum value of Teachers is 18\n",
    " - We have maximum value of Teachers is 27\n",
    " - We have Average value of Teachers is 21.03\n",
    " - The value lies between 16 and 28"
   ]
  },
  {
   "cell_type": "code",
   "execution_count": 147,
   "id": "2f7102bd",
   "metadata": {},
   "outputs": [
    {
     "data": {
      "text/html": [
       "<div>\n",
       "<style scoped>\n",
       "    .dataframe tbody tr th:only-of-type {\n",
       "        vertical-align: middle;\n",
       "    }\n",
       "\n",
       "    .dataframe tbody tr th {\n",
       "        vertical-align: top;\n",
       "    }\n",
       "\n",
       "    .dataframe thead th {\n",
       "        text-align: right;\n",
       "    }\n",
       "</style>\n",
       "<table border=\"1\" class=\"dataframe\">\n",
       "  <thead>\n",
       "    <tr style=\"text-align: right;\">\n",
       "      <th></th>\n",
       "      <th>Price</th>\n",
       "      <th>Crime_Rate</th>\n",
       "      <th>Resid_Area</th>\n",
       "      <th>Air_Qual</th>\n",
       "      <th>Age</th>\n",
       "      <th>Dist1</th>\n",
       "      <th>Dist2</th>\n",
       "      <th>Dist3</th>\n",
       "      <th>Dist4</th>\n",
       "      <th>Teachers</th>\n",
       "      <th>Poor_Prop</th>\n",
       "      <th>N_Hos_Beds</th>\n",
       "      <th>N_Hot_Rooms</th>\n",
       "      <th>Rainfall</th>\n",
       "      <th>Parks</th>\n",
       "    </tr>\n",
       "  </thead>\n",
       "  <tbody>\n",
       "    <tr>\n",
       "      <th>0</th>\n",
       "      <td>24.0</td>\n",
       "      <td>0.00632</td>\n",
       "      <td>32.31</td>\n",
       "      <td>0.538</td>\n",
       "      <td>65</td>\n",
       "      <td>4.35</td>\n",
       "      <td>3.81</td>\n",
       "      <td>4.18</td>\n",
       "      <td>4.01</td>\n",
       "      <td>24</td>\n",
       "      <td>4.98</td>\n",
       "      <td>5.480</td>\n",
       "      <td>11</td>\n",
       "      <td>23</td>\n",
       "      <td>0.049347</td>\n",
       "    </tr>\n",
       "    <tr>\n",
       "      <th>1</th>\n",
       "      <td>21.6</td>\n",
       "      <td>0.02731</td>\n",
       "      <td>37.07</td>\n",
       "      <td>0.469</td>\n",
       "      <td>78</td>\n",
       "      <td>4.99</td>\n",
       "      <td>4.70</td>\n",
       "      <td>5.12</td>\n",
       "      <td>5.06</td>\n",
       "      <td>22</td>\n",
       "      <td>9.14</td>\n",
       "      <td>7.332</td>\n",
       "      <td>12</td>\n",
       "      <td>42</td>\n",
       "      <td>0.046146</td>\n",
       "    </tr>\n",
       "    <tr>\n",
       "      <th>2</th>\n",
       "      <td>34.7</td>\n",
       "      <td>0.02729</td>\n",
       "      <td>37.07</td>\n",
       "      <td>0.469</td>\n",
       "      <td>61</td>\n",
       "      <td>5.03</td>\n",
       "      <td>4.86</td>\n",
       "      <td>5.01</td>\n",
       "      <td>4.97</td>\n",
       "      <td>22</td>\n",
       "      <td>4.03</td>\n",
       "      <td>7.394</td>\n",
       "      <td>101</td>\n",
       "      <td>38</td>\n",
       "      <td>0.045764</td>\n",
       "    </tr>\n",
       "    <tr>\n",
       "      <th>3</th>\n",
       "      <td>33.4</td>\n",
       "      <td>0.03237</td>\n",
       "      <td>32.18</td>\n",
       "      <td>0.458</td>\n",
       "      <td>45</td>\n",
       "      <td>6.21</td>\n",
       "      <td>5.93</td>\n",
       "      <td>6.16</td>\n",
       "      <td>5.96</td>\n",
       "      <td>21</td>\n",
       "      <td>2.94</td>\n",
       "      <td>9.268</td>\n",
       "      <td>11</td>\n",
       "      <td>45</td>\n",
       "      <td>0.047151</td>\n",
       "    </tr>\n",
       "    <tr>\n",
       "      <th>4</th>\n",
       "      <td>36.2</td>\n",
       "      <td>0.06905</td>\n",
       "      <td>32.18</td>\n",
       "      <td>0.458</td>\n",
       "      <td>54</td>\n",
       "      <td>6.16</td>\n",
       "      <td>5.86</td>\n",
       "      <td>6.37</td>\n",
       "      <td>5.86</td>\n",
       "      <td>21</td>\n",
       "      <td>5.33</td>\n",
       "      <td>8.824</td>\n",
       "      <td>11</td>\n",
       "      <td>55</td>\n",
       "      <td>0.039474</td>\n",
       "    </tr>\n",
       "  </tbody>\n",
       "</table>\n",
       "</div>"
      ],
      "text/plain": [
       "   Price  Crime_Rate  Resid_Area  Air_Qual  Age  Dist1  Dist2  Dist3  Dist4  \\\n",
       "0   24.0     0.00632       32.31     0.538   65   4.35   3.81   4.18   4.01   \n",
       "1   21.6     0.02731       37.07     0.469   78   4.99   4.70   5.12   5.06   \n",
       "2   34.7     0.02729       37.07     0.469   61   5.03   4.86   5.01   4.97   \n",
       "3   33.4     0.03237       32.18     0.458   45   6.21   5.93   6.16   5.96   \n",
       "4   36.2     0.06905       32.18     0.458   54   6.16   5.86   6.37   5.86   \n",
       "\n",
       "   Teachers  Poor_Prop  N_Hos_Beds  N_Hot_Rooms  Rainfall     Parks  \n",
       "0        24       4.98       5.480           11        23  0.049347  \n",
       "1        22       9.14       7.332           12        42  0.046146  \n",
       "2        22       4.03       7.394          101        38  0.045764  \n",
       "3        21       2.94       9.268           11        45  0.047151  \n",
       "4        21       5.33       8.824           11        55  0.039474  "
      ]
     },
     "execution_count": 147,
     "metadata": {},
     "output_type": "execute_result"
    }
   ],
   "source": [
    "df_num.head()"
   ]
  },
  {
   "cell_type": "markdown",
   "id": "2a1e29ef",
   "metadata": {},
   "source": [
    "### Poor_Prop"
   ]
  },
  {
   "cell_type": "code",
   "execution_count": 148,
   "id": "9080f0b9",
   "metadata": {},
   "outputs": [
    {
     "data": {
      "text/plain": [
       "1.73"
      ]
     },
     "execution_count": 148,
     "metadata": {},
     "output_type": "execute_result"
    }
   ],
   "source": [
    "# Find the minimum value\n",
    "df_num.Poor_Prop.min()"
   ]
  },
  {
   "cell_type": "code",
   "execution_count": 149,
   "id": "d8327205",
   "metadata": {},
   "outputs": [
    {
     "data": {
      "text/plain": [
       "37.97"
      ]
     },
     "execution_count": 149,
     "metadata": {},
     "output_type": "execute_result"
    }
   ],
   "source": [
    "# Find the maximum value\n",
    "df_num.Poor_Prop.max()"
   ]
  },
  {
   "cell_type": "code",
   "execution_count": 150,
   "id": "421c7b48",
   "metadata": {},
   "outputs": [
    {
     "data": {
      "text/plain": [
       "12.599116465863455"
      ]
     },
     "execution_count": 150,
     "metadata": {},
     "output_type": "execute_result"
    }
   ],
   "source": [
    "# Find the Average value\n",
    "df_num.Poor_Prop.mean()"
   ]
  },
  {
   "cell_type": "code",
   "execution_count": 151,
   "id": "f4117c75",
   "metadata": {},
   "outputs": [
    {
     "data": {
      "image/png": "[encoded data removed]",
      "text/plain": [
       "<Figure size 432x288 with 1 Axes>"
      ]
     },
     "metadata": {
      "needs_background": "light"
     },
     "output_type": "display_data"
    }
   ],
   "source": [
    "df_num.Poor_Prop.plot(kind='kde')\n",
    "plt.grid()\n",
    "plt.title('kde of Poor_prop')\n",
    "plt.show()"
   ]
  },
  {
   "cell_type": "markdown",
   "id": "b2d7c241",
   "metadata": {},
   "source": [
    "**Interprection**\n",
    " - We have minimum value of Poor_prop is 1.73\n",
    " - We have maximum value of Poor_prop is 37.97\n",
    " - We have Average value of Poor_prop is 12.59\n",
    " - The value lies between 0 and 40"
   ]
  },
  {
   "cell_type": "code",
   "execution_count": 152,
   "id": "83be8756",
   "metadata": {},
   "outputs": [
    {
     "data": {
      "text/html": [
       "<div>\n",
       "<style scoped>\n",
       "    .dataframe tbody tr th:only-of-type {\n",
       "        vertical-align: middle;\n",
       "    }\n",
       "\n",
       "    .dataframe tbody tr th {\n",
       "        vertical-align: top;\n",
       "    }\n",
       "\n",
       "    .dataframe thead th {\n",
       "        text-align: right;\n",
       "    }\n",
       "</style>\n",
       "<table border=\"1\" class=\"dataframe\">\n",
       "  <thead>\n",
       "    <tr style=\"text-align: right;\">\n",
       "      <th></th>\n",
       "      <th>Price</th>\n",
       "      <th>Crime_Rate</th>\n",
       "      <th>Resid_Area</th>\n",
       "      <th>Air_Qual</th>\n",
       "      <th>Age</th>\n",
       "      <th>Dist1</th>\n",
       "      <th>Dist2</th>\n",
       "      <th>Dist3</th>\n",
       "      <th>Dist4</th>\n",
       "      <th>Teachers</th>\n",
       "      <th>Poor_Prop</th>\n",
       "      <th>N_Hos_Beds</th>\n",
       "      <th>N_Hot_Rooms</th>\n",
       "      <th>Rainfall</th>\n",
       "      <th>Parks</th>\n",
       "    </tr>\n",
       "  </thead>\n",
       "  <tbody>\n",
       "    <tr>\n",
       "      <th>0</th>\n",
       "      <td>24.0</td>\n",
       "      <td>0.00632</td>\n",
       "      <td>32.31</td>\n",
       "      <td>0.538</td>\n",
       "      <td>65</td>\n",
       "      <td>4.35</td>\n",
       "      <td>3.81</td>\n",
       "      <td>4.18</td>\n",
       "      <td>4.01</td>\n",
       "      <td>24</td>\n",
       "      <td>4.98</td>\n",
       "      <td>5.480</td>\n",
       "      <td>11</td>\n",
       "      <td>23</td>\n",
       "      <td>0.049347</td>\n",
       "    </tr>\n",
       "    <tr>\n",
       "      <th>1</th>\n",
       "      <td>21.6</td>\n",
       "      <td>0.02731</td>\n",
       "      <td>37.07</td>\n",
       "      <td>0.469</td>\n",
       "      <td>78</td>\n",
       "      <td>4.99</td>\n",
       "      <td>4.70</td>\n",
       "      <td>5.12</td>\n",
       "      <td>5.06</td>\n",
       "      <td>22</td>\n",
       "      <td>9.14</td>\n",
       "      <td>7.332</td>\n",
       "      <td>12</td>\n",
       "      <td>42</td>\n",
       "      <td>0.046146</td>\n",
       "    </tr>\n",
       "    <tr>\n",
       "      <th>2</th>\n",
       "      <td>34.7</td>\n",
       "      <td>0.02729</td>\n",
       "      <td>37.07</td>\n",
       "      <td>0.469</td>\n",
       "      <td>61</td>\n",
       "      <td>5.03</td>\n",
       "      <td>4.86</td>\n",
       "      <td>5.01</td>\n",
       "      <td>4.97</td>\n",
       "      <td>22</td>\n",
       "      <td>4.03</td>\n",
       "      <td>7.394</td>\n",
       "      <td>101</td>\n",
       "      <td>38</td>\n",
       "      <td>0.045764</td>\n",
       "    </tr>\n",
       "    <tr>\n",
       "      <th>3</th>\n",
       "      <td>33.4</td>\n",
       "      <td>0.03237</td>\n",
       "      <td>32.18</td>\n",
       "      <td>0.458</td>\n",
       "      <td>45</td>\n",
       "      <td>6.21</td>\n",
       "      <td>5.93</td>\n",
       "      <td>6.16</td>\n",
       "      <td>5.96</td>\n",
       "      <td>21</td>\n",
       "      <td>2.94</td>\n",
       "      <td>9.268</td>\n",
       "      <td>11</td>\n",
       "      <td>45</td>\n",
       "      <td>0.047151</td>\n",
       "    </tr>\n",
       "    <tr>\n",
       "      <th>4</th>\n",
       "      <td>36.2</td>\n",
       "      <td>0.06905</td>\n",
       "      <td>32.18</td>\n",
       "      <td>0.458</td>\n",
       "      <td>54</td>\n",
       "      <td>6.16</td>\n",
       "      <td>5.86</td>\n",
       "      <td>6.37</td>\n",
       "      <td>5.86</td>\n",
       "      <td>21</td>\n",
       "      <td>5.33</td>\n",
       "      <td>8.824</td>\n",
       "      <td>11</td>\n",
       "      <td>55</td>\n",
       "      <td>0.039474</td>\n",
       "    </tr>\n",
       "  </tbody>\n",
       "</table>\n",
       "</div>"
      ],
      "text/plain": [
       "   Price  Crime_Rate  Resid_Area  Air_Qual  Age  Dist1  Dist2  Dist3  Dist4  \\\n",
       "0   24.0     0.00632       32.31     0.538   65   4.35   3.81   4.18   4.01   \n",
       "1   21.6     0.02731       37.07     0.469   78   4.99   4.70   5.12   5.06   \n",
       "2   34.7     0.02729       37.07     0.469   61   5.03   4.86   5.01   4.97   \n",
       "3   33.4     0.03237       32.18     0.458   45   6.21   5.93   6.16   5.96   \n",
       "4   36.2     0.06905       32.18     0.458   54   6.16   5.86   6.37   5.86   \n",
       "\n",
       "   Teachers  Poor_Prop  N_Hos_Beds  N_Hot_Rooms  Rainfall     Parks  \n",
       "0        24       4.98       5.480           11        23  0.049347  \n",
       "1        22       9.14       7.332           12        42  0.046146  \n",
       "2        22       4.03       7.394          101        38  0.045764  \n",
       "3        21       2.94       9.268           11        45  0.047151  \n",
       "4        21       5.33       8.824           11        55  0.039474  "
      ]
     },
     "execution_count": 152,
     "metadata": {},
     "output_type": "execute_result"
    }
   ],
   "source": [
    "df_num.head()"
   ]
  },
  {
   "cell_type": "markdown",
   "id": "36f48699",
   "metadata": {},
   "source": [
    "### N_Hos_Beds"
   ]
  },
  {
   "cell_type": "code",
   "execution_count": 153,
   "id": "f4932bee",
   "metadata": {},
   "outputs": [
    {
     "data": {
      "text/plain": [
       "5.268"
      ]
     },
     "execution_count": 153,
     "metadata": {},
     "output_type": "execute_result"
    }
   ],
   "source": [
    "# Find the minimum value\n",
    "df_num.N_Hos_Beds.min()"
   ]
  },
  {
   "cell_type": "code",
   "execution_count": 154,
   "id": "fafe04b0",
   "metadata": {},
   "outputs": [
    {
     "data": {
      "text/plain": [
       "10.876"
      ]
     },
     "execution_count": 154,
     "metadata": {},
     "output_type": "execute_result"
    }
   ],
   "source": [
    "# Find the maximum value\n",
    "df_num.N_Hos_Beds.max()"
   ]
  },
  {
   "cell_type": "code",
   "execution_count": 155,
   "id": "19bcacec",
   "metadata": {},
   "outputs": [
    {
     "data": {
      "text/plain": [
       "7.899767068273099"
      ]
     },
     "execution_count": 155,
     "metadata": {},
     "output_type": "execute_result"
    }
   ],
   "source": [
    "# Find the Average value\n",
    "df_num.N_Hos_Beds.mean()"
   ]
  },
  {
   "cell_type": "code",
   "execution_count": 156,
   "id": "49ff8d29",
   "metadata": {},
   "outputs": [
    {
     "data": {
      "image/png": "[encoded data removed]",
      "text/plain": [
       "<Figure size 432x288 with 1 Axes>"
      ]
     },
     "metadata": {
      "needs_background": "light"
     },
     "output_type": "display_data"
    }
   ],
   "source": [
    "df_num.N_Hos_Beds.plot(kind='kde')\n",
    "plt.grid()\n",
    "plt.title('kde of N_Hos_Beds')\n",
    "plt.show()"
   ]
  },
  {
   "cell_type": "markdown",
   "id": "fec812b4",
   "metadata": {},
   "source": [
    "**Interprection**\n",
    "\n",
    " - We have minimum value of N_Hos_Beds is 1.73\n",
    " - We have maximum value of N_Hos_Beds is 37.97\n",
    " - We have Average value of N_Hos_Beds is 12.59\n",
    " - The value lies between 5 and 11"
   ]
  },
  {
   "cell_type": "code",
   "execution_count": 157,
   "id": "4e7bbd13",
   "metadata": {},
   "outputs": [
    {
     "data": {
      "text/html": [
       "<div>\n",
       "<style scoped>\n",
       "    .dataframe tbody tr th:only-of-type {\n",
       "        vertical-align: middle;\n",
       "    }\n",
       "\n",
       "    .dataframe tbody tr th {\n",
       "        vertical-align: top;\n",
       "    }\n",
       "\n",
       "    .dataframe thead th {\n",
       "        text-align: right;\n",
       "    }\n",
       "</style>\n",
       "<table border=\"1\" class=\"dataframe\">\n",
       "  <thead>\n",
       "    <tr style=\"text-align: right;\">\n",
       "      <th></th>\n",
       "      <th>Price</th>\n",
       "      <th>Crime_Rate</th>\n",
       "      <th>Resid_Area</th>\n",
       "      <th>Air_Qual</th>\n",
       "      <th>Age</th>\n",
       "      <th>Dist1</th>\n",
       "      <th>Dist2</th>\n",
       "      <th>Dist3</th>\n",
       "      <th>Dist4</th>\n",
       "      <th>Teachers</th>\n",
       "      <th>Poor_Prop</th>\n",
       "      <th>N_Hos_Beds</th>\n",
       "      <th>N_Hot_Rooms</th>\n",
       "      <th>Rainfall</th>\n",
       "      <th>Parks</th>\n",
       "    </tr>\n",
       "  </thead>\n",
       "  <tbody>\n",
       "    <tr>\n",
       "      <th>0</th>\n",
       "      <td>24.0</td>\n",
       "      <td>0.00632</td>\n",
       "      <td>32.31</td>\n",
       "      <td>0.538</td>\n",
       "      <td>65</td>\n",
       "      <td>4.35</td>\n",
       "      <td>3.81</td>\n",
       "      <td>4.18</td>\n",
       "      <td>4.01</td>\n",
       "      <td>24</td>\n",
       "      <td>4.98</td>\n",
       "      <td>5.480</td>\n",
       "      <td>11</td>\n",
       "      <td>23</td>\n",
       "      <td>0.049347</td>\n",
       "    </tr>\n",
       "    <tr>\n",
       "      <th>1</th>\n",
       "      <td>21.6</td>\n",
       "      <td>0.02731</td>\n",
       "      <td>37.07</td>\n",
       "      <td>0.469</td>\n",
       "      <td>78</td>\n",
       "      <td>4.99</td>\n",
       "      <td>4.70</td>\n",
       "      <td>5.12</td>\n",
       "      <td>5.06</td>\n",
       "      <td>22</td>\n",
       "      <td>9.14</td>\n",
       "      <td>7.332</td>\n",
       "      <td>12</td>\n",
       "      <td>42</td>\n",
       "      <td>0.046146</td>\n",
       "    </tr>\n",
       "    <tr>\n",
       "      <th>2</th>\n",
       "      <td>34.7</td>\n",
       "      <td>0.02729</td>\n",
       "      <td>37.07</td>\n",
       "      <td>0.469</td>\n",
       "      <td>61</td>\n",
       "      <td>5.03</td>\n",
       "      <td>4.86</td>\n",
       "      <td>5.01</td>\n",
       "      <td>4.97</td>\n",
       "      <td>22</td>\n",
       "      <td>4.03</td>\n",
       "      <td>7.394</td>\n",
       "      <td>101</td>\n",
       "      <td>38</td>\n",
       "      <td>0.045764</td>\n",
       "    </tr>\n",
       "    <tr>\n",
       "      <th>3</th>\n",
       "      <td>33.4</td>\n",
       "      <td>0.03237</td>\n",
       "      <td>32.18</td>\n",
       "      <td>0.458</td>\n",
       "      <td>45</td>\n",
       "      <td>6.21</td>\n",
       "      <td>5.93</td>\n",
       "      <td>6.16</td>\n",
       "      <td>5.96</td>\n",
       "      <td>21</td>\n",
       "      <td>2.94</td>\n",
       "      <td>9.268</td>\n",
       "      <td>11</td>\n",
       "      <td>45</td>\n",
       "      <td>0.047151</td>\n",
       "    </tr>\n",
       "    <tr>\n",
       "      <th>4</th>\n",
       "      <td>36.2</td>\n",
       "      <td>0.06905</td>\n",
       "      <td>32.18</td>\n",
       "      <td>0.458</td>\n",
       "      <td>54</td>\n",
       "      <td>6.16</td>\n",
       "      <td>5.86</td>\n",
       "      <td>6.37</td>\n",
       "      <td>5.86</td>\n",
       "      <td>21</td>\n",
       "      <td>5.33</td>\n",
       "      <td>8.824</td>\n",
       "      <td>11</td>\n",
       "      <td>55</td>\n",
       "      <td>0.039474</td>\n",
       "    </tr>\n",
       "  </tbody>\n",
       "</table>\n",
       "</div>"
      ],
      "text/plain": [
       "   Price  Crime_Rate  Resid_Area  Air_Qual  Age  Dist1  Dist2  Dist3  Dist4  \\\n",
       "0   24.0     0.00632       32.31     0.538   65   4.35   3.81   4.18   4.01   \n",
       "1   21.6     0.02731       37.07     0.469   78   4.99   4.70   5.12   5.06   \n",
       "2   34.7     0.02729       37.07     0.469   61   5.03   4.86   5.01   4.97   \n",
       "3   33.4     0.03237       32.18     0.458   45   6.21   5.93   6.16   5.96   \n",
       "4   36.2     0.06905       32.18     0.458   54   6.16   5.86   6.37   5.86   \n",
       "\n",
       "   Teachers  Poor_Prop  N_Hos_Beds  N_Hot_Rooms  Rainfall     Parks  \n",
       "0        24       4.98       5.480           11        23  0.049347  \n",
       "1        22       9.14       7.332           12        42  0.046146  \n",
       "2        22       4.03       7.394          101        38  0.045764  \n",
       "3        21       2.94       9.268           11        45  0.047151  \n",
       "4        21       5.33       8.824           11        55  0.039474  "
      ]
     },
     "execution_count": 157,
     "metadata": {},
     "output_type": "execute_result"
    }
   ],
   "source": [
    "df_num.head()"
   ]
  },
  {
   "cell_type": "markdown",
   "id": "d480555c",
   "metadata": {},
   "source": [
    "### N_Hot_Rooms\t"
   ]
  },
  {
   "cell_type": "code",
   "execution_count": 158,
   "id": "b0bfd237",
   "metadata": {},
   "outputs": [
    {
     "data": {
      "text/plain": [
       "10"
      ]
     },
     "execution_count": 158,
     "metadata": {},
     "output_type": "execute_result"
    }
   ],
   "source": [
    "# Find the minimum value\n",
    "df_num.N_Hot_Rooms.min()"
   ]
  },
  {
   "cell_type": "code",
   "execution_count": 159,
   "id": "825760fe",
   "metadata": {},
   "outputs": [
    {
     "data": {
      "text/plain": [
       "101"
      ]
     },
     "execution_count": 159,
     "metadata": {},
     "output_type": "execute_result"
    }
   ],
   "source": [
    "# Find the maximum value\n",
    "df_num.N_Hot_Rooms.max()"
   ]
  },
  {
   "cell_type": "code",
   "execution_count": 160,
   "id": "acc36c17",
   "metadata": {},
   "outputs": [
    {
     "data": {
      "text/plain": [
       "12.867469879518072"
      ]
     },
     "execution_count": 160,
     "metadata": {},
     "output_type": "execute_result"
    }
   ],
   "source": [
    "# Find the Average value\n",
    "df_num.N_Hot_Rooms.mean()"
   ]
  },
  {
   "cell_type": "code",
   "execution_count": 161,
   "id": "2e781554",
   "metadata": {},
   "outputs": [
    {
     "data": {
      "image/png": "[encoded data removed]",
      "text/plain": [
       "<Figure size 432x288 with 1 Axes>"
      ]
     },
     "metadata": {
      "needs_background": "light"
     },
     "output_type": "display_data"
    }
   ],
   "source": [
    "df_num.N_Hot_Rooms.plot(kind='kde')\n",
    "plt.grid()\n",
    "plt.title('kde of N_Hot_Rooms')\n",
    "plt.show()"
   ]
  },
  {
   "cell_type": "markdown",
   "id": "c5765ad6",
   "metadata": {},
   "source": [
    "**Interprection**\n",
    "\n",
    " - We have minimum value of N_Hot_Rooms is 10\n",
    " - We have maximum value of N_Hot_Rooms is 101\n",
    " - We have Average value of N_Hot_Rooms is 12.86\n",
    " - The value lies between 5 and 20"
   ]
  },
  {
   "cell_type": "code",
   "execution_count": 163,
   "id": "b7f96d40",
   "metadata": {},
   "outputs": [
    {
     "data": {
      "text/html": [
       "<div>\n",
       "<style scoped>\n",
       "    .dataframe tbody tr th:only-of-type {\n",
       "        vertical-align: middle;\n",
       "    }\n",
       "\n",
       "    .dataframe tbody tr th {\n",
       "        vertical-align: top;\n",
       "    }\n",
       "\n",
       "    .dataframe thead th {\n",
       "        text-align: right;\n",
       "    }\n",
       "</style>\n",
       "<table border=\"1\" class=\"dataframe\">\n",
       "  <thead>\n",
       "    <tr style=\"text-align: right;\">\n",
       "      <th></th>\n",
       "      <th>Price</th>\n",
       "      <th>Crime_Rate</th>\n",
       "      <th>Resid_Area</th>\n",
       "      <th>Air_Qual</th>\n",
       "      <th>Age</th>\n",
       "      <th>Dist1</th>\n",
       "      <th>Dist2</th>\n",
       "      <th>Dist3</th>\n",
       "      <th>Dist4</th>\n",
       "      <th>Teachers</th>\n",
       "      <th>Poor_Prop</th>\n",
       "      <th>N_Hos_Beds</th>\n",
       "      <th>N_Hot_Rooms</th>\n",
       "      <th>Rainfall</th>\n",
       "      <th>Parks</th>\n",
       "    </tr>\n",
       "  </thead>\n",
       "  <tbody>\n",
       "    <tr>\n",
       "      <th>0</th>\n",
       "      <td>24.0</td>\n",
       "      <td>0.00632</td>\n",
       "      <td>32.31</td>\n",
       "      <td>0.538</td>\n",
       "      <td>65</td>\n",
       "      <td>4.35</td>\n",
       "      <td>3.81</td>\n",
       "      <td>4.18</td>\n",
       "      <td>4.01</td>\n",
       "      <td>24</td>\n",
       "      <td>4.98</td>\n",
       "      <td>5.480</td>\n",
       "      <td>11</td>\n",
       "      <td>23</td>\n",
       "      <td>0.049347</td>\n",
       "    </tr>\n",
       "    <tr>\n",
       "      <th>1</th>\n",
       "      <td>21.6</td>\n",
       "      <td>0.02731</td>\n",
       "      <td>37.07</td>\n",
       "      <td>0.469</td>\n",
       "      <td>78</td>\n",
       "      <td>4.99</td>\n",
       "      <td>4.70</td>\n",
       "      <td>5.12</td>\n",
       "      <td>5.06</td>\n",
       "      <td>22</td>\n",
       "      <td>9.14</td>\n",
       "      <td>7.332</td>\n",
       "      <td>12</td>\n",
       "      <td>42</td>\n",
       "      <td>0.046146</td>\n",
       "    </tr>\n",
       "    <tr>\n",
       "      <th>2</th>\n",
       "      <td>34.7</td>\n",
       "      <td>0.02729</td>\n",
       "      <td>37.07</td>\n",
       "      <td>0.469</td>\n",
       "      <td>61</td>\n",
       "      <td>5.03</td>\n",
       "      <td>4.86</td>\n",
       "      <td>5.01</td>\n",
       "      <td>4.97</td>\n",
       "      <td>22</td>\n",
       "      <td>4.03</td>\n",
       "      <td>7.394</td>\n",
       "      <td>101</td>\n",
       "      <td>38</td>\n",
       "      <td>0.045764</td>\n",
       "    </tr>\n",
       "    <tr>\n",
       "      <th>3</th>\n",
       "      <td>33.4</td>\n",
       "      <td>0.03237</td>\n",
       "      <td>32.18</td>\n",
       "      <td>0.458</td>\n",
       "      <td>45</td>\n",
       "      <td>6.21</td>\n",
       "      <td>5.93</td>\n",
       "      <td>6.16</td>\n",
       "      <td>5.96</td>\n",
       "      <td>21</td>\n",
       "      <td>2.94</td>\n",
       "      <td>9.268</td>\n",
       "      <td>11</td>\n",
       "      <td>45</td>\n",
       "      <td>0.047151</td>\n",
       "    </tr>\n",
       "    <tr>\n",
       "      <th>4</th>\n",
       "      <td>36.2</td>\n",
       "      <td>0.06905</td>\n",
       "      <td>32.18</td>\n",
       "      <td>0.458</td>\n",
       "      <td>54</td>\n",
       "      <td>6.16</td>\n",
       "      <td>5.86</td>\n",
       "      <td>6.37</td>\n",
       "      <td>5.86</td>\n",
       "      <td>21</td>\n",
       "      <td>5.33</td>\n",
       "      <td>8.824</td>\n",
       "      <td>11</td>\n",
       "      <td>55</td>\n",
       "      <td>0.039474</td>\n",
       "    </tr>\n",
       "  </tbody>\n",
       "</table>\n",
       "</div>"
      ],
      "text/plain": [
       "   Price  Crime_Rate  Resid_Area  Air_Qual  Age  Dist1  Dist2  Dist3  Dist4  \\\n",
       "0   24.0     0.00632       32.31     0.538   65   4.35   3.81   4.18   4.01   \n",
       "1   21.6     0.02731       37.07     0.469   78   4.99   4.70   5.12   5.06   \n",
       "2   34.7     0.02729       37.07     0.469   61   5.03   4.86   5.01   4.97   \n",
       "3   33.4     0.03237       32.18     0.458   45   6.21   5.93   6.16   5.96   \n",
       "4   36.2     0.06905       32.18     0.458   54   6.16   5.86   6.37   5.86   \n",
       "\n",
       "   Teachers  Poor_Prop  N_Hos_Beds  N_Hot_Rooms  Rainfall     Parks  \n",
       "0        24       4.98       5.480           11        23  0.049347  \n",
       "1        22       9.14       7.332           12        42  0.046146  \n",
       "2        22       4.03       7.394          101        38  0.045764  \n",
       "3        21       2.94       9.268           11        45  0.047151  \n",
       "4        21       5.33       8.824           11        55  0.039474  "
      ]
     },
     "execution_count": 163,
     "metadata": {},
     "output_type": "execute_result"
    }
   ],
   "source": [
    "df_num.head()"
   ]
  },
  {
   "cell_type": "markdown",
   "id": "01b5c7a8",
   "metadata": {},
   "source": [
    "### Rainfall"
   ]
  },
  {
   "cell_type": "code",
   "execution_count": 164,
   "id": "8a038ff8",
   "metadata": {},
   "outputs": [
    {
     "data": {
      "text/plain": [
       "3"
      ]
     },
     "execution_count": 164,
     "metadata": {},
     "output_type": "execute_result"
    }
   ],
   "source": [
    "# Find the minimum value\n",
    "df_num.Rainfall.min()"
   ]
  },
  {
   "cell_type": "code",
   "execution_count": 165,
   "id": "4e92e0e6",
   "metadata": {},
   "outputs": [
    {
     "data": {
      "text/plain": [
       "60"
      ]
     },
     "execution_count": 165,
     "metadata": {},
     "output_type": "execute_result"
    }
   ],
   "source": [
    "# Find the maximum value\n",
    "df_num.Rainfall.max()"
   ]
  },
  {
   "cell_type": "code",
   "execution_count": 166,
   "id": "d4253ec5",
   "metadata": {},
   "outputs": [
    {
     "data": {
      "text/plain": [
       "39.30522088353413"
      ]
     },
     "execution_count": 166,
     "metadata": {},
     "output_type": "execute_result"
    }
   ],
   "source": [
    "# Find the Average value\n",
    "df_num.Rainfall.mean()"
   ]
  },
  {
   "cell_type": "code",
   "execution_count": 167,
   "id": "9562acf1",
   "metadata": {},
   "outputs": [
    {
     "data": {
      "image/png": "[encoded data removed]",
      "text/plain": [
       "<Figure size 432x288 with 1 Axes>"
      ]
     },
     "metadata": {
      "needs_background": "light"
     },
     "output_type": "display_data"
    }
   ],
   "source": [
    "df_num.Rainfall.plot(kind='kde')\n",
    "plt.grid()\n",
    "plt.title('kde of Rainfall')\n",
    "plt.show()"
   ]
  },
  {
   "cell_type": "markdown",
   "id": "65aa15f2",
   "metadata": {},
   "source": [
    "**Interprection**\n",
    "\n",
    " - We have minimum value of Rainfall is 3\n",
    " - We have maximum value of Rainfall is 60\n",
    " - We have Average value of Rainfall is 39.30\n",
    " - The value lies between 10 and 50"
   ]
  },
  {
   "cell_type": "code",
   "execution_count": 168,
   "id": "c8a09094",
   "metadata": {},
   "outputs": [
    {
     "data": {
      "text/html": [
       "<div>\n",
       "<style scoped>\n",
       "    .dataframe tbody tr th:only-of-type {\n",
       "        vertical-align: middle;\n",
       "    }\n",
       "\n",
       "    .dataframe tbody tr th {\n",
       "        vertical-align: top;\n",
       "    }\n",
       "\n",
       "    .dataframe thead th {\n",
       "        text-align: right;\n",
       "    }\n",
       "</style>\n",
       "<table border=\"1\" class=\"dataframe\">\n",
       "  <thead>\n",
       "    <tr style=\"text-align: right;\">\n",
       "      <th></th>\n",
       "      <th>Price</th>\n",
       "      <th>Crime_Rate</th>\n",
       "      <th>Resid_Area</th>\n",
       "      <th>Air_Qual</th>\n",
       "      <th>Age</th>\n",
       "      <th>Dist1</th>\n",
       "      <th>Dist2</th>\n",
       "      <th>Dist3</th>\n",
       "      <th>Dist4</th>\n",
       "      <th>Teachers</th>\n",
       "      <th>Poor_Prop</th>\n",
       "      <th>N_Hos_Beds</th>\n",
       "      <th>N_Hot_Rooms</th>\n",
       "      <th>Rainfall</th>\n",
       "      <th>Parks</th>\n",
       "    </tr>\n",
       "  </thead>\n",
       "  <tbody>\n",
       "    <tr>\n",
       "      <th>0</th>\n",
       "      <td>24.0</td>\n",
       "      <td>0.00632</td>\n",
       "      <td>32.31</td>\n",
       "      <td>0.538</td>\n",
       "      <td>65</td>\n",
       "      <td>4.35</td>\n",
       "      <td>3.81</td>\n",
       "      <td>4.18</td>\n",
       "      <td>4.01</td>\n",
       "      <td>24</td>\n",
       "      <td>4.98</td>\n",
       "      <td>5.480</td>\n",
       "      <td>11</td>\n",
       "      <td>23</td>\n",
       "      <td>0.049347</td>\n",
       "    </tr>\n",
       "    <tr>\n",
       "      <th>1</th>\n",
       "      <td>21.6</td>\n",
       "      <td>0.02731</td>\n",
       "      <td>37.07</td>\n",
       "      <td>0.469</td>\n",
       "      <td>78</td>\n",
       "      <td>4.99</td>\n",
       "      <td>4.70</td>\n",
       "      <td>5.12</td>\n",
       "      <td>5.06</td>\n",
       "      <td>22</td>\n",
       "      <td>9.14</td>\n",
       "      <td>7.332</td>\n",
       "      <td>12</td>\n",
       "      <td>42</td>\n",
       "      <td>0.046146</td>\n",
       "    </tr>\n",
       "    <tr>\n",
       "      <th>2</th>\n",
       "      <td>34.7</td>\n",
       "      <td>0.02729</td>\n",
       "      <td>37.07</td>\n",
       "      <td>0.469</td>\n",
       "      <td>61</td>\n",
       "      <td>5.03</td>\n",
       "      <td>4.86</td>\n",
       "      <td>5.01</td>\n",
       "      <td>4.97</td>\n",
       "      <td>22</td>\n",
       "      <td>4.03</td>\n",
       "      <td>7.394</td>\n",
       "      <td>101</td>\n",
       "      <td>38</td>\n",
       "      <td>0.045764</td>\n",
       "    </tr>\n",
       "    <tr>\n",
       "      <th>3</th>\n",
       "      <td>33.4</td>\n",
       "      <td>0.03237</td>\n",
       "      <td>32.18</td>\n",
       "      <td>0.458</td>\n",
       "      <td>45</td>\n",
       "      <td>6.21</td>\n",
       "      <td>5.93</td>\n",
       "      <td>6.16</td>\n",
       "      <td>5.96</td>\n",
       "      <td>21</td>\n",
       "      <td>2.94</td>\n",
       "      <td>9.268</td>\n",
       "      <td>11</td>\n",
       "      <td>45</td>\n",
       "      <td>0.047151</td>\n",
       "    </tr>\n",
       "    <tr>\n",
       "      <th>4</th>\n",
       "      <td>36.2</td>\n",
       "      <td>0.06905</td>\n",
       "      <td>32.18</td>\n",
       "      <td>0.458</td>\n",
       "      <td>54</td>\n",
       "      <td>6.16</td>\n",
       "      <td>5.86</td>\n",
       "      <td>6.37</td>\n",
       "      <td>5.86</td>\n",
       "      <td>21</td>\n",
       "      <td>5.33</td>\n",
       "      <td>8.824</td>\n",
       "      <td>11</td>\n",
       "      <td>55</td>\n",
       "      <td>0.039474</td>\n",
       "    </tr>\n",
       "  </tbody>\n",
       "</table>\n",
       "</div>"
      ],
      "text/plain": [
       "   Price  Crime_Rate  Resid_Area  Air_Qual  Age  Dist1  Dist2  Dist3  Dist4  \\\n",
       "0   24.0     0.00632       32.31     0.538   65   4.35   3.81   4.18   4.01   \n",
       "1   21.6     0.02731       37.07     0.469   78   4.99   4.70   5.12   5.06   \n",
       "2   34.7     0.02729       37.07     0.469   61   5.03   4.86   5.01   4.97   \n",
       "3   33.4     0.03237       32.18     0.458   45   6.21   5.93   6.16   5.96   \n",
       "4   36.2     0.06905       32.18     0.458   54   6.16   5.86   6.37   5.86   \n",
       "\n",
       "   Teachers  Poor_Prop  N_Hos_Beds  N_Hot_Rooms  Rainfall     Parks  \n",
       "0        24       4.98       5.480           11        23  0.049347  \n",
       "1        22       9.14       7.332           12        42  0.046146  \n",
       "2        22       4.03       7.394          101        38  0.045764  \n",
       "3        21       2.94       9.268           11        45  0.047151  \n",
       "4        21       5.33       8.824           11        55  0.039474  "
      ]
     },
     "execution_count": 168,
     "metadata": {},
     "output_type": "execute_result"
    }
   ],
   "source": [
    "df_num.head()"
   ]
  },
  {
   "cell_type": "markdown",
   "id": "7bfe64ee",
   "metadata": {},
   "source": [
    "### Parks"
   ]
  },
  {
   "cell_type": "code",
   "execution_count": 169,
   "id": "cc3658a7",
   "metadata": {},
   "outputs": [
    {
     "data": {
      "text/plain": [
       "0.033291762"
      ]
     },
     "execution_count": 169,
     "metadata": {},
     "output_type": "execute_result"
    }
   ],
   "source": [
    "# Find the minimum value\n",
    "df_num.Parks.min()"
   ]
  },
  {
   "cell_type": "code",
   "execution_count": 170,
   "id": "0b007c20",
   "metadata": {},
   "outputs": [
    {
     "data": {
      "text/plain": [
       "0.086711473"
      ]
     },
     "execution_count": 170,
     "metadata": {},
     "output_type": "execute_result"
    }
   ],
   "source": [
    "# Find the maximum value\n",
    "df_num.Parks.max()"
   ]
  },
  {
   "cell_type": "code",
   "execution_count": 171,
   "id": "77df5bfa",
   "metadata": {},
   "outputs": [
    {
     "data": {
      "text/plain": [
       "0.05436170961044177"
      ]
     },
     "execution_count": 171,
     "metadata": {},
     "output_type": "execute_result"
    }
   ],
   "source": [
    "# Find the Average value\n",
    "df_num.Parks.mean()"
   ]
  },
  {
   "cell_type": "code",
   "execution_count": 172,
   "id": "bbf82d82",
   "metadata": {},
   "outputs": [
    {
     "data": {
      "image/png": "[encoded data removed]",
      "text/plain": [
       "<Figure size 432x288 with 1 Axes>"
      ]
     },
     "metadata": {
      "needs_background": "light"
     },
     "output_type": "display_data"
    }
   ],
   "source": [
    "df_num.Parks.plot(kind='kde')\n",
    "plt.grid()\n",
    "plt.title('kde of Parks')\n",
    "plt.show()"
   ]
  },
  {
   "cell_type": "markdown",
   "id": "24ef49c7",
   "metadata": {},
   "source": [
    "**Interprection**\n",
    "\n",
    " - We have minimum value of Parks is 0.03\n",
    " - We have maximum value of Parks is 0.08\n",
    " - We have Average value of Parks is 0.05\n",
    " - The value lies between 0.03 and 0.07"
   ]
  },
  {
   "cell_type": "code",
   "execution_count": null,
   "id": "833448a7",
   "metadata": {},
   "outputs": [],
   "source": []
  }
 ],
 "metadata": {
  "kernelspec": {
   "display_name": "Python 3 (ipykernel)",
   "language": "python",
   "name": "python3"
  },
  "language_info": {
   "codemirror_mode": {
    "name": "ipython",
    "version": 3
   },
   "file_extension": ".py",
   "mimetype": "text/x-python",
   "name": "python",
   "nbconvert_exporter": "python",
   "pygments_lexer": "ipython3",
   "version": "3.9.12"
  }
 },
 "nbformat": 4,
 "nbformat_minor": 5
}
